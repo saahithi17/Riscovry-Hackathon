{
  "nbformat": 4,
  "nbformat_minor": 0,
  "metadata": {
    "colab": {
      "name": "Riskovry.ipynb",
      "provenance": []
    },
    "kernelspec": {
      "name": "python3",
      "display_name": "Python 3"
    },
    "language_info": {
      "name": "python"
    }
  },
  "cells": [
    {
      "cell_type": "code",
      "metadata": {
        "colab": {
          "base_uri": "https://localhost:8080/"
        },
        "id": "uWsLabKuOyqA",
        "outputId": "2dad2bf5-994e-4c8b-fd4d-82e4a8a29271"
      },
      "source": [
        "from flask import Flask, request, make_response, jsonify\n",
        "import json\n",
        "import datetime\n",
        "import time\n",
        "app = Flask(__name__)\n",
        "@app.route('/webhook', methods=['POST'])\n",
        "def webhook():\n",
        "    req=request.get_json(silent=True,force=True)\n",
        "    sessionId=req.get('responseId')\n",
        "    result=req.get('queryResult')\n",
        "    user_says=result.get(\"queryText\")\n",
        "    parameters=result.get(\"parameters\")\n",
        "    cust_name=parameters.get(\"disease_name\")\n",
        "    ft='Sorry '\n",
        "    ft+=disease_name\n",
        "    return {'fulfillmentText': ft}\n",
        "if __name__ == '__main__':\n",
        "    app.run()\n"
      ],
      "execution_count": null,
      "outputs": [
        {
          "output_type": "stream",
          "text": [
            " * Serving Flask app \"__main__\" (lazy loading)\n",
            " * Environment: production\n",
            "\u001b[31m   WARNING: This is a development server. Do not use it in a production deployment.\u001b[0m\n",
            "\u001b[2m   Use a production WSGI server instead.\u001b[0m\n",
            " * Debug mode: off\n"
          ],
          "name": "stdout"
        },
        {
          "output_type": "stream",
          "text": [
            " * Running on http://127.0.0.1:5000/ (Press CTRL+C to quit)\n"
          ],
          "name": "stderr"
        }
      ]
    },
    {
      "cell_type": "code",
      "metadata": {
        "id": "5n24Iz4DPaD5"
      },
      "source": [
        ""
      ],
      "execution_count": null,
      "outputs": []
    }
  ]
}