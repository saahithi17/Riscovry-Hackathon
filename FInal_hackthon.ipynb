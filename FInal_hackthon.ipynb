{
  "nbformat": 4,
  "nbformat_minor": 0,
  "metadata": {
    "colab": {
      "name": "Copy of Copy of Copy of Hackathon.ipynb",
      "provenance": [],
      "collapsed_sections": []
    },
    "kernelspec": {
      "display_name": "Python 3",
      "name": "python3"
    },
    "language_info": {
      "name": "python"
    }
  },
  "cells": [
    {
      "cell_type": "code",
      "metadata": {
        "id": "OhGqlQF-thLk"
      },
      "source": [
        "!pip install SpeechRecognition"
      ],
      "execution_count": null,
      "outputs": []
    },
    {
      "cell_type": "code",
      "metadata": {
        "id": "vwWV_vmqcB2B"
      },
      "source": [
        "!pip install https://s3-us-west-2.amazonaws.com/ai2-s2-scispacy/releases/v0.4.0/en_ner_bc5cdr_md-0.4.0.tar.gz"
      ],
      "execution_count": null,
      "outputs": []
    },
    {
      "cell_type": "code",
      "metadata": {
        "id": "PoKUJhcDuZkp"
      },
      "source": [
        "!pip install pydub"
      ],
      "execution_count": null,
      "outputs": []
    },
    {
      "cell_type": "code",
      "metadata": {
        "id": "SSVUsw-G1sex"
      },
      "source": [
        "!pip install rasa_nlu"
      ],
      "execution_count": null,
      "outputs": []
    },
    {
      "cell_type": "code",
      "metadata": {
        "id": "IZyOsFM52TmU"
      },
      "source": [
        "!pip install rasa_core"
      ],
      "execution_count": null,
      "outputs": []
    },
    {
      "cell_type": "code",
      "metadata": {
        "id": "HRe6M3jy5zNP"
      },
      "source": [
        "pip install https://github.com/explosion/spacy-models/releases/download/en_core_web_sm-2.3.1/en_core_web_sm-2.3.1.tar.gz"
      ],
      "execution_count": null,
      "outputs": []
    },
    {
      "cell_type": "code",
      "metadata": {
        "id": "DfjePeVX52WU"
      },
      "source": [
        "!pip install sklearn_crfsuite"
      ],
      "execution_count": null,
      "outputs": []
    },
    {
      "cell_type": "code",
      "metadata": {
        "colab": {
          "base_uri": "https://localhost:8080/"
        },
        "id": "dF2u_e03G60m",
        "outputId": "c3b2bfa8-d5c1-411b-f01c-dc07dba83af5"
      },
      "source": [
        "from google.colab import drive\n",
        "drive.mount('/content/drive/')"
      ],
      "execution_count": 9,
      "outputs": [
        {
          "output_type": "stream",
          "text": [
            "Mounted at /content/drive/\n"
          ],
          "name": "stdout"
        }
      ]
    },
    {
      "cell_type": "code",
      "metadata": {
        "id": "5PITrv4YOg4E"
      },
      "source": [
        "import requests\n",
        "import json"
      ],
      "execution_count": null,
      "outputs": []
    },
    {
      "cell_type": "code",
      "metadata": {
        "colab": {
          "base_uri": "https://localhost:8080/"
        },
        "id": "lNrR4abpV5uM",
        "outputId": "38a0feef-4fa3-42e9-ef70-e36b32dcd24a"
      },
      "source": [
        "print('-------Enter the link for the data to be tested--------')\n",
        "L=input()"
      ],
      "execution_count": null,
      "outputs": [
        {
          "output_type": "stream",
          "text": [
            "-------Enter the link for the data to be tested--------\n",
            "http://api.open-notify.org/iss-now.json\n"
          ],
          "name": "stdout"
        }
      ]
    },
    {
      "cell_type": "code",
      "metadata": {
        "colab": {
          "base_uri": "https://localhost:8080/"
        },
        "id": "y-UGZ-zokPcO",
        "outputId": "d0dc588a-fc74-4835-bd2c-401b185acacb"
      },
      "source": [
        "cd '/content/drive/MyDrive/SpeechRecognition/'"
      ],
      "execution_count": 10,
      "outputs": [
        {
          "output_type": "stream",
          "text": [
            "/content/drive/MyDrive/SpeechRecognition\n"
          ],
          "name": "stdout"
        }
      ]
    },
    {
      "cell_type": "code",
      "metadata": {
        "id": "Y5BfUCMuWTD0"
      },
      "source": [
        "request = requests.get(L)\n",
        "D=request.json()"
      ],
      "execution_count": null,
      "outputs": []
    },
    {
      "cell_type": "code",
      "metadata": {
        "id": "ICcsTPO9uAF-"
      },
      "source": [
        "import os,sys\n",
        "from pydub import AudioSegment\n",
        "def con():\n",
        "  orig_song = D[\"audio\"]\n",
        "  dest_song = os.path.splitext(D[\"audio\"])[0]+'.wav'\n",
        "  song = AudioSegment.from_ogg(orig_song)\n",
        "  song.export(dest_song, format=\"wav\")\n",
        "  \n",
        "  return dest_song\n"
      ],
      "execution_count": null,
      "outputs": []
    },
    {
      "cell_type": "code",
      "metadata": {
        "id": "Niv_9n-WZu-7"
      },
      "source": [
        "import speech_recognition as sr\n",
        "def speech_text(audio):\n",
        "  r = sr.Recognizer()\n",
        "  with sr.AudioFile(audio) as source:\n",
        "    audio_text = r.listen(source)\n",
        "  try:\n",
        "    text = r.recognize_google(audio_text)\n",
        "  except:\n",
        "    print('Sorry.. run again...')\n",
        "  return text"
      ],
      "execution_count": null,
      "outputs": []
    },
    {
      "cell_type": "code",
      "metadata": {
        "id": "RhPLIv-zZO5J"
      },
      "source": [
        "audio=con()\n",
        "text=speech_text(audio)"
      ],
      "execution_count": null,
      "outputs": []
    },
    {
      "cell_type": "code",
      "metadata": {
        "id": "2pM3cIrg1scb"
      },
      "source": [
        "import rasa_nlu\n",
        "import rasa_core\n",
        "import spacy\n",
        "from rasa_nlu.training_data import load_data\n",
        "from rasa_nlu.config import RasaNLUModelConfig\n",
        "from rasa_nlu.model import Trainer\n",
        "from rasa_nlu import config\n",
        "training_data = load_data(\"q1/nlu1.md\")\n",
        "trainer = Trainer(config.load(\"config.yml\"))\n",
        "interpreter = trainer.train(training_data)\n",
        "model_directory = trainer.persist(\"./models/nlu\", fixed_model_name=\"current\")\n",
        "def q11(text):\n",
        "  x=interpreter.parse(text)\n",
        "  val=[]\n",
        "  for i in x['entities']:\n",
        "    val.append(i['value'])\n",
        "  return val\n"
      ],
      "execution_count": null,
      "outputs": []
    },
    {
      "cell_type": "code",
      "metadata": {
        "id": "H73UtfXQeEfJ"
      },
      "source": [
        "import en_ner_bc5cdr_md\n",
        "nlp_bc = en_ner_bc5cdr_md.load()\n",
        "def q1(text):\n",
        "  doc=nlp_bc(text)\n",
        "  return doc.ents"
      ],
      "execution_count": null,
      "outputs": []
    },
    {
      "cell_type": "code",
      "metadata": {
        "id": "SI3r-22CLco-"
      },
      "source": [
        "import re\n",
        "def q2(text,options):\n",
        "  temp = re.findall(r'\\d+', text)\n",
        "  res = list(map(int, temp))\n",
        "  for i in options:\n",
        "    r=i\n",
        "    i=i.replace('lakh','')\n",
        "    if '>' in i :\n",
        "      i=i.replace('>','')\n",
        "      if res[0] > int(i):\n",
        "        return r\n",
        "    elif '<' in i :\n",
        "      i=i.replace('<','')\n",
        "      if res[0] < int(i):\n",
        "        return r\n",
        "    else:\n",
        "      i=i.split('-')\n",
        "      if res[0]>=int(i[0]) and res[0]<=int(i[1]):\n",
        "        return r"
      ],
      "execution_count": null,
      "outputs": []
    },
    {
      "cell_type": "code",
      "metadata": {
        "id": "FAWL_IOocX-4"
      },
      "source": [
        "def convert(text):\n",
        "  month_to_number = {\n",
        "  'january' : 1,         \n",
        "  'february' : 2,         \n",
        "  'march' : 3,           \n",
        "  'april' : 4,              \n",
        "  'may' : 5, \n",
        "  'june' : 6,\n",
        "  'july' : 7, \n",
        "  'august' : 8, \n",
        "  'september' : 9, \n",
        "  'october' : 10, \n",
        "  'november' : 11, \n",
        "  'december' : 12}\n",
        "  s=text\n",
        "  for i in s.split():\n",
        "    if i in month_to_number.keys():\n",
        "      x=[v for k, v in month_to_number.items() if i.lower() in k.lower()][0]\n",
        "      return x"
      ],
      "execution_count": null,
      "outputs": []
    },
    {
      "cell_type": "code",
      "metadata": {
        "id": "kGLtz_GEbCZc"
      },
      "source": [
        "def q3(text):\n",
        "  temp=re.findall(r'\\d+',text)\n",
        "  res=list(map(int,temp))\n",
        "  if len(res)==3:\n",
        "    return res\n",
        "  else:\n",
        "    l=[]\n",
        "    mon=convert(text)\n",
        "    l.append(res[0])\n",
        "    l.append(mon)\n",
        "    l.append(res[1])\n",
        "    return l\n",
        "  "
      ],
      "execution_count": null,
      "outputs": []
    },
    {
      "cell_type": "code",
      "metadata": {
        "id": "tBLgqShiY1mP"
      },
      "source": [
        "q=D['question_key']\n",
        "if q=='q1':\n",
        "  options=D['options']\n",
        "  answers2=q11(text)\n",
        "  answers=str(q1(text))\n",
        "  if (len(answers)>2):\n",
        "    answers=answers.replace(\",\",\"\")\n",
        "    answers=answers.replace(\"(\",\"\")\n",
        "    answers=answers.replace(\")\",\"\")\n",
        "    answers=answers.split(\" \")\n",
        "    answers=list(set(answers) or set(answers2))\n",
        "    answers=list(set(answers) and set(options))\n",
        "  else :\n",
        "    l_s=['none','nothing','no']\n",
        "    text=text.split(\" \")\n",
        "    for i in text:\n",
        "      if i in l_s:\n",
        "        answers=i\n",
        "  x={\"answers\":answers}\n",
        "elif q=='q2':\n",
        "  options=D['options']\n",
        "  answers=q2(text,options)\n",
        "  x={\"answers\":[answers]}\n",
        "else:\n",
        "  l=q3(text)\n",
        "  answers=str(l[0])+'/'+str(l[1])+'/'+str(l[2])\n",
        "  x={\"answers\":[answers]}\n",
        "\n",
        "\n",
        "print(x)"
      ],
      "execution_count": null,
      "outputs": []
    },
    {
      "cell_type": "code",
      "metadata": {
        "id": "P0_XxM1Hcgtb"
      },
      "source": [
        ""
      ],
      "execution_count": null,
      "outputs": []
    }
  ]
}