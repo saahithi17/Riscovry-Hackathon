{
  "nbformat": 4,
  "nbformat_minor": 0,
  "metadata": {
    "colab": {
      "name": "Hackathon.ipynb",
      "provenance": [],
      "collapsed_sections": []
    },
    "kernelspec": {
      "display_name": "Python 3",
      "name": "python3"
    },
    "language_info": {
      "name": "python"
    }
  },
  "cells": [
    {
      "cell_type": "code",
      "metadata": {
        "id": "OhGqlQF-thLk",
        "colab": {
          "base_uri": "https://localhost:8080/"
        },
        "outputId": "6dadc8b9-ca43-49d5-eaeb-62ff6bde0ee4"
      },
      "source": [
        "!pip install SpeechRecognition"
      ],
      "execution_count": 5,
      "outputs": [
        {
          "output_type": "stream",
          "text": [
            "Requirement already satisfied: SpeechRecognition in /usr/local/lib/python3.7/dist-packages (3.8.1)\n"
          ],
          "name": "stdout"
        }
      ]
    },
    {
      "cell_type": "code",
      "metadata": {
        "id": "aCTkp_88fA3J",
        "colab": {
          "base_uri": "https://localhost:8080/",
          "height": 1000
        },
        "outputId": "ba1712c9-520c-42f6-a61f-3ddd8d5f3a02"
      },
      "source": [
        "!pip install rasa_nlu"
      ],
      "execution_count": 6,
      "outputs": [
        {
          "output_type": "stream",
          "text": [
            "Collecting rasa_nlu\n",
            "\u001b[?25l  Downloading https://files.pythonhosted.org/packages/19/c4/c6146c445a17b6ce414d773f93c941c44ca16720609000ae3d01409f9dfb/rasa_nlu-0.15.1-py3-none-any.whl (147kB)\n",
            "\u001b[K     |████████████████████████████████| 153kB 3.9MB/s \n",
            "\u001b[?25hCollecting coloredlogs~=10.0\n",
            "\u001b[?25l  Downloading https://files.pythonhosted.org/packages/08/0f/7877fc42fff0b9d70b6442df62d53b3868d3a6ad1b876bdb54335b30ff23/coloredlogs-10.0-py2.py3-none-any.whl (47kB)\n",
            "\u001b[K     |████████████████████████████████| 51kB 5.6MB/s \n",
            "\u001b[?25hCollecting klein~=17.10\n",
            "  Downloading https://files.pythonhosted.org/packages/8a/6b/adc97a7bb3fb781fdd9e49177ad873c1479f87b9745271cbeda81cbb9cc8/klein-17.10.0-py2.py3-none-any.whl\n",
            "Collecting boto3~=1.9\n",
            "\u001b[?25l  Downloading https://files.pythonhosted.org/packages/1e/c2/7091c0cbff9eeb4afb8ddf22ea2c5d6f27b0cfa5f207f5106b647b6614f4/boto3-1.17.88-py2.py3-none-any.whl (131kB)\n",
            "\u001b[K     |████████████████████████████████| 133kB 18.9MB/s \n",
            "\u001b[?25hCollecting simplejson~=3.13\n",
            "\u001b[?25l  Downloading https://files.pythonhosted.org/packages/a8/04/377418ac1e530ce2a196b54c6552c018fdf1fe776718053efb1f216bffcd/simplejson-3.17.2-cp37-cp37m-manylinux2010_x86_64.whl (128kB)\n",
            "\u001b[K     |████████████████████████████████| 133kB 38.1MB/s \n",
            "\u001b[?25hCollecting future~=0.17.1\n",
            "\u001b[?25l  Downloading https://files.pythonhosted.org/packages/90/52/e20466b85000a181e1e144fd8305caf2cf475e2f9674e797b222f8105f5f/future-0.17.1.tar.gz (829kB)\n",
            "\u001b[K     |████████████████████████████████| 829kB 39.5MB/s \n",
            "\u001b[?25hCollecting ruamel.yaml~=0.15.7\n",
            "\u001b[?25l  Downloading https://files.pythonhosted.org/packages/71/fc/12de89822adaa3a60b8cb0139bae75918278999d08e6dff158623abd7cba/ruamel.yaml-0.15.100-cp37-cp37m-manylinux1_x86_64.whl (654kB)\n",
            "\u001b[K     |████████████████████████████████| 655kB 28.5MB/s \n",
            "\u001b[?25hRequirement already satisfied: numpy>=1.16 in /usr/local/lib/python3.7/dist-packages (from rasa_nlu) (1.19.5)\n",
            "Collecting gevent~=1.3\n",
            "\u001b[?25l  Downloading https://files.pythonhosted.org/packages/c4/41/4740e0b8c4b20dbc7beeba8d3f5c4f16a3b3afd01cfadad02bd7ca86f2ea/gevent-1.5.0-cp37-cp37m-manylinux2010_x86_64.whl (5.1MB)\n",
            "\u001b[K     |████████████████████████████████| 5.1MB 34.3MB/s \n",
            "\u001b[?25hRequirement already satisfied: requests~=2.20 in /usr/local/lib/python3.7/dist-packages (from rasa_nlu) (2.23.0)\n",
            "Collecting matplotlib~=2.2\n",
            "\u001b[?25l  Downloading https://files.pythonhosted.org/packages/d3/38/64d5579936b9058c39c443f186e3ee20c0a4bb0ccc9d3618a1be93b01d05/matplotlib-2.2.5-cp37-cp37m-manylinux1_x86_64.whl (12.8MB)\n",
            "\u001b[K     |████████████████████████████████| 12.8MB 26.3MB/s \n",
            "\u001b[?25hCollecting cloudpickle~=0.6.1\n",
            "  Downloading https://files.pythonhosted.org/packages/fc/87/7b7ef3038b4783911e3fdecb5c566e3a817ce3e890e164fc174c088edb1e/cloudpickle-0.6.1-py2.py3-none-any.whl\n",
            "Collecting scikit-learn~=0.20.2\n",
            "\u001b[?25l  Downloading https://files.pythonhosted.org/packages/87/6f/5863f1b27523c5d9f0ae2f3d07828ad383ceab39c79726d2ea4da7f679e7/scikit_learn-0.20.4-cp37-cp37m-manylinux1_x86_64.whl (5.4MB)\n",
            "\u001b[K     |████████████████████████████████| 5.4MB 26.2MB/s \n",
            "\u001b[?25hRequirement already satisfied: tqdm~=4.19 in /usr/local/lib/python3.7/dist-packages (from rasa_nlu) (4.41.1)\n",
            "Collecting packaging~=18.0\n",
            "  Downloading https://files.pythonhosted.org/packages/89/d1/92e6df2e503a69df9faab187c684585f0136662c12bb1f36901d426f3fab/packaging-18.0-py2.py3-none-any.whl\n",
            "Requirement already satisfied: jsonschema~=2.6 in /usr/local/lib/python3.7/dist-packages (from rasa_nlu) (2.6.0)\n",
            "Collecting typing~=3.6\n",
            "\u001b[?25l  Downloading https://files.pythonhosted.org/packages/05/d9/6eebe19d46bd05360c9a9aae822e67a80f9242aabbfc58b641b957546607/typing-3.7.4.3.tar.gz (78kB)\n",
            "\u001b[K     |████████████████████████████████| 81kB 8.1MB/s \n",
            "\u001b[?25hCollecting humanfriendly>=4.7\n",
            "\u001b[?25l  Downloading https://files.pythonhosted.org/packages/93/66/363d01a81da2108a5cf446daf619779f06d49a0c4426dd02b40734f10e2f/humanfriendly-9.1-py2.py3-none-any.whl (86kB)\n",
            "\u001b[K     |████████████████████████████████| 92kB 10.0MB/s \n",
            "\u001b[?25hRequirement already satisfied: werkzeug in /usr/local/lib/python3.7/dist-packages (from klein~=17.10->rasa_nlu) (1.0.1)\n",
            "Collecting Twisted>=15.5\n",
            "\u001b[?25l  Downloading https://files.pythonhosted.org/packages/f2/16/3eb9c66a7bfb5220c7bcbaaac33d359fe8a157b028959cd210983749b2e0/Twisted-21.2.0-py3-none-any.whl (3.1MB)\n",
            "\u001b[K     |████████████████████████████████| 3.1MB 36.0MB/s \n",
            "\u001b[?25hCollecting incremental\n",
            "  Downloading https://files.pythonhosted.org/packages/99/3b/4f80dd10cb716f3a9e22ae88f026d25c47cc3fdf82c2747f3d59c98e4ff1/incremental-21.3.0-py2.py3-none-any.whl\n",
            "Requirement already satisfied: six in /usr/local/lib/python3.7/dist-packages (from klein~=17.10->rasa_nlu) (1.15.0)\n",
            "Collecting s3transfer<0.5.0,>=0.4.0\n",
            "\u001b[?25l  Downloading https://files.pythonhosted.org/packages/63/d0/693477c688348654ddc21dcdce0817653a294aa43f41771084c25e7ff9c7/s3transfer-0.4.2-py2.py3-none-any.whl (79kB)\n",
            "\u001b[K     |████████████████████████████████| 81kB 8.2MB/s \n",
            "\u001b[?25hCollecting botocore<1.21.0,>=1.20.88\n",
            "\u001b[?25l  Downloading https://files.pythonhosted.org/packages/d8/d9/a22d370aba7cc0b454614f440f38c592b806c1903a451c8665811b4f58ad/botocore-1.20.88-py2.py3-none-any.whl (7.6MB)\n",
            "\u001b[K     |████████████████████████████████| 7.6MB 31.7MB/s \n",
            "\u001b[?25hCollecting jmespath<1.0.0,>=0.7.1\n",
            "  Downloading https://files.pythonhosted.org/packages/07/cb/5f001272b6faeb23c1c9e0acc04d48eaaf5c862c17709d20e3469c6e0139/jmespath-0.10.0-py2.py3-none-any.whl\n",
            "Requirement already satisfied: greenlet>=0.4.14; platform_python_implementation == \"CPython\" in /usr/local/lib/python3.7/dist-packages (from gevent~=1.3->rasa_nlu) (1.1.0)\n",
            "Requirement already satisfied: urllib3!=1.25.0,!=1.25.1,<1.26,>=1.21.1 in /usr/local/lib/python3.7/dist-packages (from requests~=2.20->rasa_nlu) (1.24.3)\n",
            "Requirement already satisfied: chardet<4,>=3.0.2 in /usr/local/lib/python3.7/dist-packages (from requests~=2.20->rasa_nlu) (3.0.4)\n",
            "Requirement already satisfied: idna<3,>=2.5 in /usr/local/lib/python3.7/dist-packages (from requests~=2.20->rasa_nlu) (2.10)\n",
            "Requirement already satisfied: certifi>=2017.4.17 in /usr/local/lib/python3.7/dist-packages (from requests~=2.20->rasa_nlu) (2020.12.5)\n",
            "Requirement already satisfied: python-dateutil>=2.1 in /usr/local/lib/python3.7/dist-packages (from matplotlib~=2.2->rasa_nlu) (2.8.1)\n",
            "Requirement already satisfied: kiwisolver>=1.0.1 in /usr/local/lib/python3.7/dist-packages (from matplotlib~=2.2->rasa_nlu) (1.3.1)\n",
            "Requirement already satisfied: cycler>=0.10 in /usr/local/lib/python3.7/dist-packages (from matplotlib~=2.2->rasa_nlu) (0.10.0)\n",
            "Requirement already satisfied: pyparsing!=2.0.4,!=2.1.2,!=2.1.6,>=2.0.1 in /usr/local/lib/python3.7/dist-packages (from matplotlib~=2.2->rasa_nlu) (2.4.7)\n",
            "Requirement already satisfied: pytz in /usr/local/lib/python3.7/dist-packages (from matplotlib~=2.2->rasa_nlu) (2018.9)\n",
            "Requirement already satisfied: scipy>=0.13.3 in /usr/local/lib/python3.7/dist-packages (from scikit-learn~=0.20.2->rasa_nlu) (1.4.1)\n",
            "Requirement already satisfied: attrs>=19.2.0 in /usr/local/lib/python3.7/dist-packages (from Twisted>=15.5->klein~=17.10->rasa_nlu) (21.2.0)\n",
            "Collecting hyperlink>=17.1.1\n",
            "\u001b[?25l  Downloading https://files.pythonhosted.org/packages/6e/aa/8caf6a0a3e62863cbb9dab27135660acba46903b703e224f14f447e57934/hyperlink-21.0.0-py2.py3-none-any.whl (74kB)\n",
            "\u001b[K     |████████████████████████████████| 81kB 8.6MB/s \n",
            "\u001b[?25hCollecting zope.interface>=4.4.2\n",
            "\u001b[?25l  Downloading https://files.pythonhosted.org/packages/bb/a7/94e1a92c71436f934cdd2102826fa041c83dcb7d21dd0f1fb1a57f6e0620/zope.interface-5.4.0-cp37-cp37m-manylinux2010_x86_64.whl (251kB)\n",
            "\u001b[K     |████████████████████████████████| 256kB 44.5MB/s \n",
            "\u001b[?25hCollecting constantly>=15.1\n",
            "  Downloading https://files.pythonhosted.org/packages/b9/65/48c1909d0c0aeae6c10213340ce682db01b48ea900a7d9fce7a7910ff318/constantly-15.1.0-py2.py3-none-any.whl\n",
            "Collecting Automat>=0.8.0\n",
            "  Downloading https://files.pythonhosted.org/packages/dd/83/5f6f3c1a562674d65efc320257bdc0873ec53147835aeef7762fe7585273/Automat-20.2.0-py2.py3-none-any.whl\n",
            "Requirement already satisfied: setuptools in /usr/local/lib/python3.7/dist-packages (from zope.interface>=4.4.2->Twisted>=15.5->klein~=17.10->rasa_nlu) (57.0.0)\n",
            "Building wheels for collected packages: future, typing\n",
            "  Building wheel for future (setup.py) ... \u001b[?25l\u001b[?25hdone\n",
            "  Created wheel for future: filename=future-0.17.1-cp37-none-any.whl size=488742 sha256=af21107d3acedd83830ef125e051a8e4b8e60152a32b606020cda56dccfcf8c0\n",
            "  Stored in directory: /root/.cache/pip/wheels/0c/61/d2/d6b7317325828fbb39ee6ad559dbe4664d0896da4721bf379e\n",
            "  Building wheel for typing (setup.py) ... \u001b[?25l\u001b[?25hdone\n",
            "  Created wheel for typing: filename=typing-3.7.4.3-cp37-none-any.whl size=26323 sha256=03b5a0a1ae95ae1dc87cab256d5f4a8586d969b452f19daef5216a77943fc6af\n",
            "  Stored in directory: /root/.cache/pip/wheels/2d/04/41/8e1836e79581989c22eebac3f4e70aaac9af07b0908da173be\n",
            "Successfully built future typing\n",
            "\u001b[31mERROR: tensorflow-probability 0.12.1 has requirement cloudpickle>=1.3, but you'll have cloudpickle 0.6.1 which is incompatible.\u001b[0m\n",
            "\u001b[31mERROR: plotnine 0.6.0 has requirement matplotlib>=3.1.1, but you'll have matplotlib 2.2.5 which is incompatible.\u001b[0m\n",
            "\u001b[31mERROR: mizani 0.6.0 has requirement matplotlib>=3.1.1, but you'll have matplotlib 2.2.5 which is incompatible.\u001b[0m\n",
            "\u001b[31mERROR: gym 0.17.3 has requirement cloudpickle<1.7.0,>=1.2.0, but you'll have cloudpickle 0.6.1 which is incompatible.\u001b[0m\n",
            "\u001b[31mERROR: datascience 0.10.6 has requirement folium==0.2.1, but you'll have folium 0.8.3 which is incompatible.\u001b[0m\n",
            "\u001b[31mERROR: arviz 0.11.2 has requirement matplotlib>=3.0, but you'll have matplotlib 2.2.5 which is incompatible.\u001b[0m\n",
            "\u001b[31mERROR: albumentations 0.1.12 has requirement imgaug<0.2.7,>=0.2.5, but you'll have imgaug 0.2.9 which is incompatible.\u001b[0m\n",
            "\u001b[31mERROR: botocore 1.20.88 has requirement urllib3<1.27,>=1.25.4, but you'll have urllib3 1.24.3 which is incompatible.\u001b[0m\n",
            "Installing collected packages: humanfriendly, coloredlogs, hyperlink, zope.interface, incremental, constantly, Automat, Twisted, klein, jmespath, botocore, s3transfer, boto3, simplejson, future, ruamel.yaml, gevent, matplotlib, cloudpickle, scikit-learn, packaging, typing, rasa-nlu\n",
            "  Found existing installation: future 0.16.0\n",
            "    Uninstalling future-0.16.0:\n",
            "      Successfully uninstalled future-0.16.0\n",
            "  Found existing installation: matplotlib 3.2.2\n",
            "    Uninstalling matplotlib-3.2.2:\n",
            "      Successfully uninstalled matplotlib-3.2.2\n",
            "  Found existing installation: cloudpickle 1.3.0\n",
            "    Uninstalling cloudpickle-1.3.0:\n",
            "      Successfully uninstalled cloudpickle-1.3.0\n",
            "  Found existing installation: scikit-learn 0.22.2.post1\n",
            "    Uninstalling scikit-learn-0.22.2.post1:\n",
            "      Successfully uninstalled scikit-learn-0.22.2.post1\n",
            "  Found existing installation: packaging 20.9\n",
            "    Uninstalling packaging-20.9:\n",
            "      Successfully uninstalled packaging-20.9\n",
            "Successfully installed Automat-20.2.0 Twisted-21.2.0 boto3-1.17.88 botocore-1.20.88 cloudpickle-0.6.1 coloredlogs-10.0 constantly-15.1.0 future-0.17.1 gevent-1.5.0 humanfriendly-9.1 hyperlink-21.0.0 incremental-21.3.0 jmespath-0.10.0 klein-17.10.0 matplotlib-2.2.5 packaging-18.0 rasa-nlu-0.15.1 ruamel.yaml-0.15.100 s3transfer-0.4.2 scikit-learn-0.20.4 simplejson-3.17.2 typing-3.7.4.3 zope.interface-5.4.0\n"
          ],
          "name": "stdout"
        },
        {
          "output_type": "display_data",
          "data": {
            "application/vnd.colab-display-data+json": {
              "pip_warning": {
                "packages": [
                  "matplotlib",
                  "mpl_toolkits",
                  "typing"
                ]
              }
            }
          },
          "metadata": {
            "tags": []
          }
        }
      ]
    },
    {
      "cell_type": "code",
      "metadata": {
        "id": "XXvHy1PCfVRe",
        "colab": {
          "base_uri": "https://localhost:8080/",
          "height": 1000
        },
        "outputId": "de825a82-df12-40be-bfe5-efd232c64b6e"
      },
      "source": [
        "!pip install rasa_core"
      ],
      "execution_count": 7,
      "outputs": [
        {
          "output_type": "stream",
          "text": [
            "Collecting rasa_core\n",
            "\u001b[?25l  Downloading https://files.pythonhosted.org/packages/cd/7b/58a6a997023a8b1f6a0e292d08fd88b4d39ec325e103c6cebd1eb38f6545/rasa_core-0.14.5-py3-none-any.whl (212kB)\n",
            "\u001b[K     |████████████████████████████████| 215kB 3.9MB/s \n",
            "\u001b[?25hRequirement already satisfied: ruamel.yaml~=0.15.0 in /usr/local/lib/python3.7/dist-packages (from rasa_core) (0.15.100)\n",
            "Collecting flask-cors~=3.0\n",
            "  Downloading https://files.pythonhosted.org/packages/db/84/901e700de86604b1c4ef4b57110d4e947c218b9997adf5d38fa7da493bce/Flask_Cors-3.0.10-py2.py3-none-any.whl\n",
            "Requirement already satisfied: jsonschema~=2.6 in /usr/local/lib/python3.7/dist-packages (from rasa_core) (2.6.0)\n",
            "Collecting questionary>=1.0.1\n",
            "  Downloading https://files.pythonhosted.org/packages/0d/44/972fd92022c4dbc28fa4cbb2e161e60e2f116eb8c64b58c2c90a4b57c4c9/questionary-1.9.0-py3-none-any.whl\n",
            "Collecting rocketchat-API~=0.6.0\n",
            "  Downloading https://files.pythonhosted.org/packages/8e/e6/69e5d75ad687635c56a27a8529c471cf1a8593e071784c4d2727382cd5db/rocketchat_API-0.6.36-py3-none-any.whl\n",
            "Requirement already satisfied: pymongo~=3.7 in /usr/local/lib/python3.7/dist-packages (from rasa_core) (3.11.4)\n",
            "Collecting pydot~=1.4\n",
            "  Downloading https://files.pythonhosted.org/packages/ea/76/75b1bb82e9bad3e3d656556eaa353d8cd17c4254393b08ec9786ac8ed273/pydot-1.4.2-py2.py3-none-any.whl\n",
            "Requirement already satisfied: rasa-nlu~=0.15 in /usr/local/lib/python3.7/dist-packages (from rasa_core) (0.15.1)\n",
            "Collecting flask-jwt-simple~=0.0.3\n",
            "  Downloading https://files.pythonhosted.org/packages/e7/5f/432fde78e3a7dda20576396ebf561770a83104dc4b74a1ee84e71574ec0a/Flask-JWT-Simple-0.0.3.tar.gz\n",
            "Requirement already satisfied: coloredlogs~=10.0 in /usr/local/lib/python3.7/dist-packages (from rasa_core) (10.0)\n",
            "Collecting python-socketio~=3.0\n",
            "\u001b[?25l  Downloading https://files.pythonhosted.org/packages/b5/db/dc823aa0b3397e52ebe8bba62ee39d6b9a088377809bc230d3ad2e5d2448/python_socketio-3.1.2-py2.py3-none-any.whl (43kB)\n",
            "\u001b[K     |████████████████████████████████| 51kB 6.1MB/s \n",
            "\u001b[?25hCollecting colorhash~=1.0\n",
            "  Downloading https://files.pythonhosted.org/packages/ce/73/e867cd41ab0c15b26f89b0382527e525a2bee8f80ef7ac619fbe16f6ece6/colorhash-1.0.3-py3-none-any.whl\n",
            "Requirement already satisfied: networkx~=2.2 in /usr/local/lib/python3.7/dist-packages (from rasa_core) (2.5.1)\n",
            "Requirement already satisfied: numpy~=1.16 in /usr/local/lib/python3.7/dist-packages (from rasa_core) (1.19.5)\n",
            "Requirement already satisfied: flask~=1.0 in /usr/local/lib/python3.7/dist-packages (from rasa_core) (1.1.4)\n",
            "Collecting slackclient~=1.0\n",
            "  Downloading https://files.pythonhosted.org/packages/7c/2f/9b6db4c7686be3dc6b4244eaef4f37226a2ccca1a796516d4adcdfeefe56/slackclient-1.3.2.tar.gz\n",
            "Collecting terminaltables~=3.1\n",
            "  Downloading https://files.pythonhosted.org/packages/9b/c4/4a21174f32f8a7e1104798c445dacdc1d4df86f2f26722767034e4de4bff/terminaltables-3.1.0.tar.gz\n",
            "Collecting tensorflow~=1.13.0\n",
            "\u001b[?25l  Downloading https://files.pythonhosted.org/packages/bc/70/45d3b9fab768215a2055c7819d39547a4b0b7401b4583094068741aff99b/tensorflow-1.13.2-cp37-cp37m-manylinux1_x86_64.whl (92.7MB)\n",
            "\u001b[K     |████████████████████████████████| 92.7MB 43kB/s \n",
            "\u001b[?25hRequirement already satisfied: python-dateutil~=2.7 in /usr/local/lib/python3.7/dist-packages (from rasa_core) (2.8.1)\n",
            "Collecting pykwalify~=1.7.0\n",
            "\u001b[?25l  Downloading https://files.pythonhosted.org/packages/36/9f/612de8ca540bd24d604f544248c4c46e9db76f6ea5eb75fb4244da6ebbf0/pykwalify-1.7.0-py2.py3-none-any.whl (40kB)\n",
            "\u001b[K     |████████████████████████████████| 40kB 4.3MB/s \n",
            "\u001b[?25hCollecting fakeredis~=0.10.0\n",
            "  Downloading https://files.pythonhosted.org/packages/64/bd/2756ddf350c4bb308e3255f9dcd6610f8b01344947bf74d5d166dc66b0a2/fakeredis-0.10.3-py2.py3-none-any.whl\n",
            "Requirement already satisfied: requests~=2.20 in /usr/local/lib/python3.7/dist-packages (from rasa_core) (2.23.0)\n",
            "Collecting python-telegram-bot~=11.0\n",
            "\u001b[?25l  Downloading https://files.pythonhosted.org/packages/84/6c/47932a4041ee76650ad1f45a80e1422077e1e99c08a4d7a61cfbe5393d41/python_telegram_bot-11.1.0-py2.py3-none-any.whl (326kB)\n",
            "\u001b[K     |████████████████████████████████| 327kB 43.8MB/s \n",
            "\u001b[?25hCollecting webexteamssdk~=1.0\n",
            "\u001b[?25l  Downloading https://files.pythonhosted.org/packages/4d/27/20edad1a463bd709e90ccc6be12cd5ce5db7ebeda98084143902c226adda/webexteamssdk-1.6-py3-none-any.whl (113kB)\n",
            "\u001b[K     |████████████████████████████████| 122kB 42.7MB/s \n",
            "\u001b[?25hCollecting twilio~=6.0\n",
            "\u001b[?25l  Downloading https://files.pythonhosted.org/packages/1a/7a/325b519f87519c409380230543db8dd1d2607535f228d01ca6484e7dc74b/twilio-6.59.1.tar.gz (479kB)\n",
            "\u001b[K     |████████████████████████████████| 481kB 41.4MB/s \n",
            "\u001b[?25hCollecting fbmessenger~=5.0\n",
            "  Downloading https://files.pythonhosted.org/packages/51/9d/9a426160e00c3c9d839314685fcec1f60ad04888be4228399dadb37c3226/fbmessenger-5.6.0-py2.py3-none-any.whl\n",
            "Collecting apscheduler~=3.0\n",
            "\u001b[?25l  Downloading https://files.pythonhosted.org/packages/5d/e9/b5e4f7aaea076bbfb241b04824c63cd42fe8029358103c27375e690bddc0/APScheduler-3.7.0-py2.py3-none-any.whl (59kB)\n",
            "\u001b[K     |████████████████████████████████| 61kB 7.0MB/s \n",
            "\u001b[?25hRequirement already satisfied: scipy~=1.2 in /usr/local/lib/python3.7/dist-packages (from rasa_core) (1.4.1)\n",
            "Collecting redis~=2.0\n",
            "\u001b[?25l  Downloading https://files.pythonhosted.org/packages/3b/f6/7a76333cf0b9251ecf49efff635015171843d9b977e4ffcf59f9c4428052/redis-2.10.6-py2.py3-none-any.whl (64kB)\n",
            "\u001b[K     |████████████████████████████████| 71kB 6.1MB/s \n",
            "\u001b[?25hRequirement already satisfied: pytz~=2018.9 in /usr/local/lib/python3.7/dist-packages (from rasa_core) (2018.9)\n",
            "Requirement already satisfied: gevent~=1.3 in /usr/local/lib/python3.7/dist-packages (from rasa_core) (1.5.0)\n",
            "Requirement already satisfied: tqdm~=4.0 in /usr/local/lib/python3.7/dist-packages (from rasa_core) (4.41.1)\n",
            "Collecting rasa-core-sdk~=0.14\n",
            "  Downloading https://files.pythonhosted.org/packages/bc/5b/343937a872b497079803878e5a6f75deb4aeb00504d32601a0ffd37b90f4/rasa_core_sdk-0.14.0-py2.py3-none-any.whl\n",
            "Requirement already satisfied: typing~=3.0 in /usr/local/lib/python3.7/dist-packages (from rasa_core) (3.7.4.3)\n",
            "Collecting pika~=0.12.0\n",
            "\u001b[?25l  Downloading https://files.pythonhosted.org/packages/bf/48/72de47f63ba353bacd74b76bb65bc63620b0706d8b0471798087cd5a4916/pika-0.12.0-py2.py3-none-any.whl (108kB)\n",
            "\u001b[K     |████████████████████████████████| 112kB 31.3MB/s \n",
            "\u001b[?25hCollecting colorclass~=2.2\n",
            "  Downloading https://files.pythonhosted.org/packages/37/ea/ae8dbb956939d4392e6a7fdef87fda273854da1128edae016c4104240be8/colorclass-2.2.0.tar.gz\n",
            "Collecting jsonpickle~=1.0\n",
            "  Downloading https://files.pythonhosted.org/packages/e9/ec/35910cf6ab87f8a013036f01f732f871a23b6058123a7bd0c7b08fbbc937/jsonpickle-1.5.2-py2.py3-none-any.whl\n",
            "Collecting mattermostwrapper~=2.0\n",
            "  Downloading https://files.pythonhosted.org/packages/d7/fd/f1ce046ddaeffa5073f87d7800c27ad2c8e543e924a8418675c64aea6a14/mattermostwrapper-2.2.tar.gz\n",
            "Requirement already satisfied: scikit-learn~=0.20.0 in /usr/local/lib/python3.7/dist-packages (from rasa_core) (0.20.4)\n",
            "Requirement already satisfied: packaging~=18.0 in /usr/local/lib/python3.7/dist-packages (from rasa_core) (18.0)\n",
            "Requirement already satisfied: Six in /usr/local/lib/python3.7/dist-packages (from flask-cors~=3.0->rasa_core) (1.15.0)\n",
            "Collecting prompt_toolkit<4.0,>=2.0\n",
            "\u001b[?25l  Downloading https://files.pythonhosted.org/packages/eb/e6/4b4ca4fa94462d4560ba2f4e62e62108ab07be2e16a92e594e43b12d3300/prompt_toolkit-3.0.18-py3-none-any.whl (367kB)\n",
            "\u001b[K     |████████████████████████████████| 368kB 30.3MB/s \n",
            "\u001b[?25hRequirement already satisfied: pyparsing>=2.1.4 in /usr/local/lib/python3.7/dist-packages (from pydot~=1.4->rasa_core) (2.4.7)\n",
            "Requirement already satisfied: matplotlib~=2.2 in /usr/local/lib/python3.7/dist-packages (from rasa-nlu~=0.15->rasa_core) (2.2.5)\n",
            "Requirement already satisfied: boto3~=1.9 in /usr/local/lib/python3.7/dist-packages (from rasa-nlu~=0.15->rasa_core) (1.17.88)\n",
            "Requirement already satisfied: simplejson~=3.13 in /usr/local/lib/python3.7/dist-packages (from rasa-nlu~=0.15->rasa_core) (3.17.2)\n",
            "Requirement already satisfied: cloudpickle~=0.6.1 in /usr/local/lib/python3.7/dist-packages (from rasa-nlu~=0.15->rasa_core) (0.6.1)\n",
            "Requirement already satisfied: klein~=17.10 in /usr/local/lib/python3.7/dist-packages (from rasa-nlu~=0.15->rasa_core) (17.10.0)\n",
            "Requirement already satisfied: future~=0.17.1 in /usr/local/lib/python3.7/dist-packages (from rasa-nlu~=0.15->rasa_core) (0.17.1)\n",
            "Collecting PyJWT\n",
            "  Downloading https://files.pythonhosted.org/packages/3f/32/d5d3cab27fee7f6b22d7cd7507547ae45d52e26030fa77d1f83d0526c6e5/PyJWT-2.1.0-py3-none-any.whl\n",
            "Requirement already satisfied: humanfriendly>=4.7 in /usr/local/lib/python3.7/dist-packages (from coloredlogs~=10.0->rasa_core) (9.1)\n",
            "Collecting python-engineio>=3.2.0\n",
            "\u001b[?25l  Downloading https://files.pythonhosted.org/packages/07/2b/d51f2ddd6e4a4b8aca044b23a16ca1ab0d47cc7a4b0b99dab4f047780795/python_engineio-4.2.0-py2.py3-none-any.whl (51kB)\n",
            "\u001b[K     |████████████████████████████████| 61kB 5.0MB/s \n",
            "\u001b[?25hRequirement already satisfied: decorator<5,>=4.3 in /usr/local/lib/python3.7/dist-packages (from networkx~=2.2->rasa_core) (4.4.2)\n",
            "Requirement already satisfied: Jinja2<3.0,>=2.10.1 in /usr/local/lib/python3.7/dist-packages (from flask~=1.0->rasa_core) (2.11.3)\n",
            "Requirement already satisfied: click<8.0,>=5.1 in /usr/local/lib/python3.7/dist-packages (from flask~=1.0->rasa_core) (7.1.2)\n",
            "Requirement already satisfied: Werkzeug<2.0,>=0.15 in /usr/local/lib/python3.7/dist-packages (from flask~=1.0->rasa_core) (1.0.1)\n",
            "Requirement already satisfied: itsdangerous<2.0,>=0.24 in /usr/local/lib/python3.7/dist-packages (from flask~=1.0->rasa_core) (1.1.0)\n",
            "Collecting websocket-client<0.55.0,>=0.35\n",
            "\u001b[?25l  Downloading https://files.pythonhosted.org/packages/26/2d/f749a5c82f6192d77ed061a38e02001afcba55fe8477336d26a950ab17ce/websocket_client-0.54.0-py2.py3-none-any.whl (200kB)\n",
            "\u001b[K     |████████████████████████████████| 204kB 31.3MB/s \n",
            "\u001b[?25hRequirement already satisfied: astor>=0.6.0 in /usr/local/lib/python3.7/dist-packages (from tensorflow~=1.13.0->rasa_core) (0.8.1)\n",
            "Requirement already satisfied: absl-py>=0.1.6 in /usr/local/lib/python3.7/dist-packages (from tensorflow~=1.13.0->rasa_core) (0.12.0)\n",
            "Requirement already satisfied: termcolor>=1.1.0 in /usr/local/lib/python3.7/dist-packages (from tensorflow~=1.13.0->rasa_core) (1.1.0)\n",
            "Requirement already satisfied: grpcio>=1.8.6 in /usr/local/lib/python3.7/dist-packages (from tensorflow~=1.13.0->rasa_core) (1.34.1)\n",
            "Requirement already satisfied: keras-preprocessing>=1.0.5 in /usr/local/lib/python3.7/dist-packages (from tensorflow~=1.13.0->rasa_core) (1.1.2)\n",
            "Collecting tensorflow-estimator<1.14.0rc0,>=1.13.0\n",
            "\u001b[?25l  Downloading https://files.pythonhosted.org/packages/bb/48/13f49fc3fa0fdf916aa1419013bb8f2ad09674c275b4046d5ee669a46873/tensorflow_estimator-1.13.0-py2.py3-none-any.whl (367kB)\n",
            "\u001b[K     |████████████████████████████████| 368kB 26.7MB/s \n",
            "\u001b[?25hRequirement already satisfied: wheel>=0.26 in /usr/local/lib/python3.7/dist-packages (from tensorflow~=1.13.0->rasa_core) (0.36.2)\n",
            "Collecting keras-applications>=1.0.6\n",
            "\u001b[?25l  Downloading https://files.pythonhosted.org/packages/71/e3/19762fdfc62877ae9102edf6342d71b28fbfd9dea3d2f96a882ce099b03f/Keras_Applications-1.0.8-py3-none-any.whl (50kB)\n",
            "\u001b[K     |████████████████████████████████| 51kB 4.8MB/s \n",
            "\u001b[?25hRequirement already satisfied: gast>=0.2.0 in /usr/local/lib/python3.7/dist-packages (from tensorflow~=1.13.0->rasa_core) (0.4.0)\n",
            "Requirement already satisfied: protobuf>=3.6.1 in /usr/local/lib/python3.7/dist-packages (from tensorflow~=1.13.0->rasa_core) (3.12.4)\n",
            "Collecting tensorboard<1.14.0,>=1.13.0\n",
            "\u001b[?25l  Downloading https://files.pythonhosted.org/packages/0f/39/bdd75b08a6fba41f098b6cb091b9e8c7a80e1b4d679a581a0ccd17b10373/tensorboard-1.13.1-py3-none-any.whl (3.2MB)\n",
            "\u001b[K     |████████████████████████████████| 3.2MB 22.8MB/s \n",
            "\u001b[?25hRequirement already satisfied: docopt>=0.6.2 in /usr/local/lib/python3.7/dist-packages (from pykwalify~=1.7.0->rasa_core) (0.6.2)\n",
            "Requirement already satisfied: PyYAML>=3.11 in /usr/local/lib/python3.7/dist-packages (from pykwalify~=1.7.0->rasa_core) (3.13)\n",
            "Requirement already satisfied: certifi>=2017.4.17 in /usr/local/lib/python3.7/dist-packages (from requests~=2.20->rasa_core) (2020.12.5)\n",
            "Requirement already satisfied: urllib3!=1.25.0,!=1.25.1,<1.26,>=1.21.1 in /usr/local/lib/python3.7/dist-packages (from requests~=2.20->rasa_core) (1.24.3)\n",
            "Requirement already satisfied: idna<3,>=2.5 in /usr/local/lib/python3.7/dist-packages (from requests~=2.20->rasa_core) (2.10)\n",
            "Requirement already satisfied: chardet<4,>=3.0.2 in /usr/local/lib/python3.7/dist-packages (from requests~=2.20->rasa_core) (3.0.4)\n",
            "Collecting cryptography\n",
            "\u001b[?25l  Downloading https://files.pythonhosted.org/packages/b2/26/7af637e6a7e87258b963f1731c5982fb31cd507f0d90d91836e446955d02/cryptography-3.4.7-cp36-abi3-manylinux2014_x86_64.whl (3.2MB)\n",
            "\u001b[K     |████████████████████████████████| 3.2MB 19.0MB/s \n",
            "\u001b[?25hCollecting requests-toolbelt\n",
            "\u001b[?25l  Downloading https://files.pythonhosted.org/packages/60/ef/7681134338fc097acef8d9b2f8abe0458e4d87559c689a8c306d0957ece5/requests_toolbelt-0.9.1-py2.py3-none-any.whl (54kB)\n",
            "\u001b[K     |████████████████████████████████| 61kB 5.9MB/s \n",
            "\u001b[?25hRequirement already satisfied: setuptools>=0.7 in /usr/local/lib/python3.7/dist-packages (from apscheduler~=3.0->rasa_core) (57.0.0)\n",
            "Collecting tzlocal~=2.0\n",
            "  Downloading https://files.pythonhosted.org/packages/5d/94/d47b0fd5988e6b7059de05720a646a2930920fff247a826f61674d436ba4/tzlocal-2.1-py2.py3-none-any.whl\n",
            "Requirement already satisfied: greenlet>=0.4.14; platform_python_implementation == \"CPython\" in /usr/local/lib/python3.7/dist-packages (from gevent~=1.3->rasa_core) (1.1.0)\n",
            "Collecting ConfigArgParse~=0.13.0\n",
            "  Downloading https://files.pythonhosted.org/packages/77/61/ae928ce6ab85d4479ea198488cf5ffa371bd4ece2030c0ee85ff668deac5/ConfigArgParse-0.13.0.tar.gz\n",
            "Requirement already satisfied: importlib-metadata; python_version < \"3.8\" in /usr/local/lib/python3.7/dist-packages (from jsonpickle~=1.0->rasa_core) (4.0.1)\n",
            "Requirement already satisfied: wcwidth in /usr/local/lib/python3.7/dist-packages (from prompt_toolkit<4.0,>=2.0->questionary>=1.0.1->rasa_core) (0.2.5)\n",
            "Requirement already satisfied: kiwisolver>=1.0.1 in /usr/local/lib/python3.7/dist-packages (from matplotlib~=2.2->rasa-nlu~=0.15->rasa_core) (1.3.1)\n",
            "Requirement already satisfied: cycler>=0.10 in /usr/local/lib/python3.7/dist-packages (from matplotlib~=2.2->rasa-nlu~=0.15->rasa_core) (0.10.0)\n",
            "Requirement already satisfied: s3transfer<0.5.0,>=0.4.0 in /usr/local/lib/python3.7/dist-packages (from boto3~=1.9->rasa-nlu~=0.15->rasa_core) (0.4.2)\n",
            "Requirement already satisfied: jmespath<1.0.0,>=0.7.1 in /usr/local/lib/python3.7/dist-packages (from boto3~=1.9->rasa-nlu~=0.15->rasa_core) (0.10.0)\n",
            "Requirement already satisfied: botocore<1.21.0,>=1.20.88 in /usr/local/lib/python3.7/dist-packages (from boto3~=1.9->rasa-nlu~=0.15->rasa_core) (1.20.88)\n",
            "Requirement already satisfied: Twisted>=15.5 in /usr/local/lib/python3.7/dist-packages (from klein~=17.10->rasa-nlu~=0.15->rasa_core) (21.2.0)\n",
            "Requirement already satisfied: incremental in /usr/local/lib/python3.7/dist-packages (from klein~=17.10->rasa-nlu~=0.15->rasa_core) (21.3.0)\n",
            "Requirement already satisfied: MarkupSafe>=0.23 in /usr/local/lib/python3.7/dist-packages (from Jinja2<3.0,>=2.10.1->flask~=1.0->rasa_core) (2.0.1)\n",
            "Collecting mock>=2.0.0\n",
            "  Downloading https://files.pythonhosted.org/packages/5c/03/b7e605db4a57c0f6fba744b11ef3ddf4ddebcada35022927a2b5fc623fdf/mock-4.0.3-py3-none-any.whl\n",
            "Requirement already satisfied: h5py in /usr/local/lib/python3.7/dist-packages (from keras-applications>=1.0.6->tensorflow~=1.13.0->rasa_core) (3.1.0)\n",
            "Requirement already satisfied: markdown>=2.6.8 in /usr/local/lib/python3.7/dist-packages (from tensorboard<1.14.0,>=1.13.0->tensorflow~=1.13.0->rasa_core) (3.3.4)\n",
            "Requirement already satisfied: cffi>=1.12 in /usr/local/lib/python3.7/dist-packages (from cryptography->python-telegram-bot~=11.0->rasa_core) (1.14.5)\n",
            "Requirement already satisfied: typing-extensions>=3.6.4; python_version < \"3.8\" in /usr/local/lib/python3.7/dist-packages (from importlib-metadata; python_version < \"3.8\"->jsonpickle~=1.0->rasa_core) (3.7.4.3)\n",
            "Requirement already satisfied: zipp>=0.5 in /usr/local/lib/python3.7/dist-packages (from importlib-metadata; python_version < \"3.8\"->jsonpickle~=1.0->rasa_core) (3.4.1)\n",
            "Requirement already satisfied: constantly>=15.1 in /usr/local/lib/python3.7/dist-packages (from Twisted>=15.5->klein~=17.10->rasa-nlu~=0.15->rasa_core) (15.1.0)\n",
            "Requirement already satisfied: hyperlink>=17.1.1 in /usr/local/lib/python3.7/dist-packages (from Twisted>=15.5->klein~=17.10->rasa-nlu~=0.15->rasa_core) (21.0.0)\n",
            "Requirement already satisfied: attrs>=19.2.0 in /usr/local/lib/python3.7/dist-packages (from Twisted>=15.5->klein~=17.10->rasa-nlu~=0.15->rasa_core) (21.2.0)\n",
            "Requirement already satisfied: zope.interface>=4.4.2 in /usr/local/lib/python3.7/dist-packages (from Twisted>=15.5->klein~=17.10->rasa-nlu~=0.15->rasa_core) (5.4.0)\n",
            "Requirement already satisfied: Automat>=0.8.0 in /usr/local/lib/python3.7/dist-packages (from Twisted>=15.5->klein~=17.10->rasa-nlu~=0.15->rasa_core) (20.2.0)\n",
            "Requirement already satisfied: cached-property; python_version < \"3.8\" in /usr/local/lib/python3.7/dist-packages (from h5py->keras-applications>=1.0.6->tensorflow~=1.13.0->rasa_core) (1.5.2)\n",
            "Requirement already satisfied: pycparser in /usr/local/lib/python3.7/dist-packages (from cffi>=1.12->cryptography->python-telegram-bot~=11.0->rasa_core) (2.20)\n",
            "Building wheels for collected packages: flask-jwt-simple, slackclient, terminaltables, twilio, colorclass, mattermostwrapper, ConfigArgParse\n",
            "  Building wheel for flask-jwt-simple (setup.py) ... \u001b[?25l\u001b[?25hdone\n",
            "  Created wheel for flask-jwt-simple: filename=Flask_JWT_Simple-0.0.3-cp37-none-any.whl size=7999 sha256=34756cfa91a2f8ef701dd57180d0e30c0be18ee93a75ee7cae164334aba18b6c\n",
            "  Stored in directory: /root/.cache/pip/wheels/5d/86/c2/49573c0ce194f3073438e56dad49c462fe9c9a69a4fbe7b3fc\n",
            "  Building wheel for slackclient (setup.py) ... \u001b[?25l\u001b[?25hdone\n",
            "  Created wheel for slackclient: filename=slackclient-1.3.2-py2.py3-none-any.whl size=19242 sha256=036a4f2416b5a301d8ba51aabc34b17f2ce7d03ae2e56a10c551eb4885409665\n",
            "  Stored in directory: /root/.cache/pip/wheels/3b/d4/92/3458f0e1a3e1a9c8935d3b2db89a75d74d8d45601fedec752f\n",
            "  Building wheel for terminaltables (setup.py) ... \u001b[?25l\u001b[?25hdone\n",
            "  Created wheel for terminaltables: filename=terminaltables-3.1.0-cp37-none-any.whl size=15356 sha256=6020ffd558b7db893eda9cb5f77278dc3844e58027dfec439aba773a29ec46ae\n",
            "  Stored in directory: /root/.cache/pip/wheels/30/6b/50/6c75775b681fb36cdfac7f19799888ef9d8813aff9e379663e\n",
            "  Building wheel for twilio (setup.py) ... \u001b[?25l\u001b[?25hdone\n",
            "  Created wheel for twilio: filename=twilio-6.59.1-py2.py3-none-any.whl size=1268948 sha256=4bc9dfb2198e8d96c9edab713553ca441d9984dc0bc23cf7e6142ee506bf6510\n",
            "  Stored in directory: /root/.cache/pip/wheels/71/f7/c2/4ff5570b626bcd307be61951f1979a03c12d03a157b503e001\n",
            "  Building wheel for colorclass (setup.py) ... \u001b[?25l\u001b[?25hdone\n",
            "  Created wheel for colorclass: filename=colorclass-2.2.0-cp37-none-any.whl size=19396 sha256=e4ec0b5f9d9d4053c89e8167032402d6dadfbfdd2a92008cf5bfa1dbb63f5265\n",
            "  Stored in directory: /root/.cache/pip/wheels/d1/86/9d/16127127306a92d7fd30267890a5634026c045391979c4c317\n",
            "  Building wheel for mattermostwrapper (setup.py) ... \u001b[?25l\u001b[?25hdone\n",
            "  Created wheel for mattermostwrapper: filename=mattermostwrapper-2.2-cp37-none-any.whl size=2465 sha256=74b2e80bbc11ad7b0aab531c269c28d24c4bd15e06c3ccf3e08a884f07f848ef\n",
            "  Stored in directory: /root/.cache/pip/wheels/c5/47/19/47188b3036316651250c4f7df23d59a3b524c82921bfb6daa3\n",
            "  Building wheel for ConfigArgParse (setup.py) ... \u001b[?25l\u001b[?25hdone\n",
            "  Created wheel for ConfigArgParse: filename=ConfigArgParse-0.13.0-cp37-none-any.whl size=17584 sha256=1d8f07c9a20c439c26b9d73d08f0c61eea07122ee24b376d869c30cd02f8b05b\n",
            "  Stored in directory: /root/.cache/pip/wheels/76/11/eb/12113becd46c0e8a70b8a63f9405e46a1f61d4aaa8532d676b\n",
            "Successfully built flask-jwt-simple slackclient terminaltables twilio colorclass mattermostwrapper ConfigArgParse\n",
            "\u001b[31mERROR: kapre 0.3.5 has requirement tensorflow>=2.0.0, but you'll have tensorflow 1.13.2 which is incompatible.\u001b[0m\n",
            "\u001b[31mERROR: jupyter-console 5.2.0 has requirement prompt-toolkit<2.0.0,>=1.0.0, but you'll have prompt-toolkit 3.0.18 which is incompatible.\u001b[0m\n",
            "\u001b[31mERROR: ipython 5.5.0 has requirement prompt-toolkit<2.0.0,>=1.0.4, but you'll have prompt-toolkit 3.0.18 which is incompatible.\u001b[0m\n",
            "\u001b[31mERROR: twilio 6.59.1 has requirement PyJWT==1.7.1, but you'll have pyjwt 2.1.0 which is incompatible.\u001b[0m\n",
            "Installing collected packages: flask-cors, prompt-toolkit, questionary, rocketchat-API, pydot, PyJWT, flask-jwt-simple, python-engineio, python-socketio, colorhash, websocket-client, slackclient, terminaltables, mock, tensorflow-estimator, keras-applications, tensorboard, tensorflow, pykwalify, redis, fakeredis, cryptography, python-telegram-bot, requests-toolbelt, webexteamssdk, twilio, fbmessenger, tzlocal, apscheduler, ConfigArgParse, rasa-core-sdk, pika, colorclass, jsonpickle, mattermostwrapper, rasa-core\n",
            "  Found existing installation: prompt-toolkit 1.0.18\n",
            "    Uninstalling prompt-toolkit-1.0.18:\n",
            "      Successfully uninstalled prompt-toolkit-1.0.18\n",
            "  Found existing installation: pydot 1.3.0\n",
            "    Uninstalling pydot-1.3.0:\n",
            "      Successfully uninstalled pydot-1.3.0\n",
            "  Found existing installation: tensorflow-estimator 2.5.0\n",
            "    Uninstalling tensorflow-estimator-2.5.0:\n",
            "      Successfully uninstalled tensorflow-estimator-2.5.0\n",
            "  Found existing installation: tensorboard 2.5.0\n",
            "    Uninstalling tensorboard-2.5.0:\n",
            "      Successfully uninstalled tensorboard-2.5.0\n",
            "  Found existing installation: tensorflow 2.5.0\n",
            "    Uninstalling tensorflow-2.5.0:\n",
            "      Successfully uninstalled tensorflow-2.5.0\n",
            "  Found existing installation: tzlocal 1.5.1\n",
            "    Uninstalling tzlocal-1.5.1:\n",
            "      Successfully uninstalled tzlocal-1.5.1\n",
            "Successfully installed ConfigArgParse-0.13.0 PyJWT-2.1.0 apscheduler-3.7.0 colorclass-2.2.0 colorhash-1.0.3 cryptography-3.4.7 fakeredis-0.10.3 fbmessenger-5.6.0 flask-cors-3.0.10 flask-jwt-simple-0.0.3 jsonpickle-1.5.2 keras-applications-1.0.8 mattermostwrapper-2.2 mock-4.0.3 pika-0.12.0 prompt-toolkit-3.0.18 pydot-1.4.2 pykwalify-1.7.0 python-engineio-4.2.0 python-socketio-3.1.2 python-telegram-bot-11.1.0 questionary-1.9.0 rasa-core-0.14.5 rasa-core-sdk-0.14.0 redis-2.10.6 requests-toolbelt-0.9.1 rocketchat-API-0.6.36 slackclient-1.3.2 tensorboard-1.13.1 tensorflow-1.13.2 tensorflow-estimator-1.13.0 terminaltables-3.1.0 twilio-6.59.1 tzlocal-2.1 webexteamssdk-1.6 websocket-client-0.54.0\n"
          ],
          "name": "stdout"
        },
        {
          "output_type": "display_data",
          "data": {
            "application/vnd.colab-display-data+json": {
              "pip_warning": {
                "packages": [
                  "prompt_toolkit"
                ]
              }
            }
          },
          "metadata": {
            "tags": []
          }
        }
      ]
    },
    {
      "cell_type": "code",
      "metadata": {
        "colab": {
          "base_uri": "https://localhost:8080/"
        },
        "id": "dF2u_e03G60m",
        "outputId": "1da68230-8e86-4394-b928-54651cd927d0"
      },
      "source": [
        "from google.colab import drive\n",
        "drive.mount('/content/drive/')"
      ],
      "execution_count": 8,
      "outputs": [
        {
          "output_type": "stream",
          "text": [
            "Mounted at /content/drive/\n"
          ],
          "name": "stdout"
        }
      ]
    },
    {
      "cell_type": "code",
      "metadata": {
        "id": "5PITrv4YOg4E"
      },
      "source": [
        "import requests\n",
        "import json"
      ],
      "execution_count": 9,
      "outputs": []
    },
    {
      "cell_type": "code",
      "metadata": {
        "colab": {
          "base_uri": "https://localhost:8080/",
          "height": 554
        },
        "id": "lNrR4abpV5uM",
        "outputId": "662972cf-4a46-475e-98b0-c456acaf839e"
      },
      "source": [
        "print('-------Enter the link for the data to be tested--------')\n",
        "L=input()"
      ],
      "execution_count": 10,
      "outputs": [
        {
          "output_type": "stream",
          "text": [
            "-------Enter the link for the data to be tested--------\n"
          ],
          "name": "stdout"
        },
        {
          "output_type": "error",
          "ename": "KeyboardInterrupt",
          "evalue": "ignored",
          "traceback": [
            "\u001b[0;31m---------------------------------------------------------------------------\u001b[0m",
            "\u001b[0;31mKeyboardInterrupt\u001b[0m                         Traceback (most recent call last)",
            "\u001b[0;32m/usr/local/lib/python3.7/dist-packages/ipykernel/kernelbase.py\u001b[0m in \u001b[0;36m_input_request\u001b[0;34m(self, prompt, ident, parent, password)\u001b[0m\n\u001b[1;32m    728\u001b[0m             \u001b[0;32mtry\u001b[0m\u001b[0;34m:\u001b[0m\u001b[0;34m\u001b[0m\u001b[0;34m\u001b[0m\u001b[0m\n\u001b[0;32m--> 729\u001b[0;31m                 \u001b[0mident\u001b[0m\u001b[0;34m,\u001b[0m \u001b[0mreply\u001b[0m \u001b[0;34m=\u001b[0m \u001b[0mself\u001b[0m\u001b[0;34m.\u001b[0m\u001b[0msession\u001b[0m\u001b[0;34m.\u001b[0m\u001b[0mrecv\u001b[0m\u001b[0;34m(\u001b[0m\u001b[0mself\u001b[0m\u001b[0;34m.\u001b[0m\u001b[0mstdin_socket\u001b[0m\u001b[0;34m,\u001b[0m \u001b[0;36m0\u001b[0m\u001b[0;34m)\u001b[0m\u001b[0;34m\u001b[0m\u001b[0;34m\u001b[0m\u001b[0m\n\u001b[0m\u001b[1;32m    730\u001b[0m             \u001b[0;32mexcept\u001b[0m \u001b[0mException\u001b[0m\u001b[0;34m:\u001b[0m\u001b[0;34m\u001b[0m\u001b[0;34m\u001b[0m\u001b[0m\n",
            "\u001b[0;32m/usr/local/lib/python3.7/dist-packages/jupyter_client/session.py\u001b[0m in \u001b[0;36mrecv\u001b[0;34m(self, socket, mode, content, copy)\u001b[0m\n\u001b[1;32m    802\u001b[0m         \u001b[0;32mtry\u001b[0m\u001b[0;34m:\u001b[0m\u001b[0;34m\u001b[0m\u001b[0;34m\u001b[0m\u001b[0m\n\u001b[0;32m--> 803\u001b[0;31m             \u001b[0mmsg_list\u001b[0m \u001b[0;34m=\u001b[0m \u001b[0msocket\u001b[0m\u001b[0;34m.\u001b[0m\u001b[0mrecv_multipart\u001b[0m\u001b[0;34m(\u001b[0m\u001b[0mmode\u001b[0m\u001b[0;34m,\u001b[0m \u001b[0mcopy\u001b[0m\u001b[0;34m=\u001b[0m\u001b[0mcopy\u001b[0m\u001b[0;34m)\u001b[0m\u001b[0;34m\u001b[0m\u001b[0;34m\u001b[0m\u001b[0m\n\u001b[0m\u001b[1;32m    804\u001b[0m         \u001b[0;32mexcept\u001b[0m \u001b[0mzmq\u001b[0m\u001b[0;34m.\u001b[0m\u001b[0mZMQError\u001b[0m \u001b[0;32mas\u001b[0m \u001b[0me\u001b[0m\u001b[0;34m:\u001b[0m\u001b[0;34m\u001b[0m\u001b[0;34m\u001b[0m\u001b[0m\n",
            "\u001b[0;32m/usr/local/lib/python3.7/dist-packages/zmq/sugar/socket.py\u001b[0m in \u001b[0;36mrecv_multipart\u001b[0;34m(self, flags, copy, track)\u001b[0m\n\u001b[1;32m    582\u001b[0m         \"\"\"\n\u001b[0;32m--> 583\u001b[0;31m         \u001b[0mparts\u001b[0m \u001b[0;34m=\u001b[0m \u001b[0;34m[\u001b[0m\u001b[0mself\u001b[0m\u001b[0;34m.\u001b[0m\u001b[0mrecv\u001b[0m\u001b[0;34m(\u001b[0m\u001b[0mflags\u001b[0m\u001b[0;34m,\u001b[0m \u001b[0mcopy\u001b[0m\u001b[0;34m=\u001b[0m\u001b[0mcopy\u001b[0m\u001b[0;34m,\u001b[0m \u001b[0mtrack\u001b[0m\u001b[0;34m=\u001b[0m\u001b[0mtrack\u001b[0m\u001b[0;34m)\u001b[0m\u001b[0;34m]\u001b[0m\u001b[0;34m\u001b[0m\u001b[0;34m\u001b[0m\u001b[0m\n\u001b[0m\u001b[1;32m    584\u001b[0m         \u001b[0;31m# have first part already, only loop while more to receive\u001b[0m\u001b[0;34m\u001b[0m\u001b[0;34m\u001b[0m\u001b[0;34m\u001b[0m\u001b[0m\n",
            "\u001b[0;32mzmq/backend/cython/socket.pyx\u001b[0m in \u001b[0;36mzmq.backend.cython.socket.Socket.recv\u001b[0;34m()\u001b[0m\n",
            "\u001b[0;32mzmq/backend/cython/socket.pyx\u001b[0m in \u001b[0;36mzmq.backend.cython.socket.Socket.recv\u001b[0;34m()\u001b[0m\n",
            "\u001b[0;32mzmq/backend/cython/socket.pyx\u001b[0m in \u001b[0;36mzmq.backend.cython.socket._recv_copy\u001b[0;34m()\u001b[0m\n",
            "\u001b[0;32m/usr/local/lib/python3.7/dist-packages/zmq/backend/cython/checkrc.pxd\u001b[0m in \u001b[0;36mzmq.backend.cython.checkrc._check_rc\u001b[0;34m()\u001b[0m\n",
            "\u001b[0;31mKeyboardInterrupt\u001b[0m: ",
            "\nDuring handling of the above exception, another exception occurred:\n",
            "\u001b[0;31mKeyboardInterrupt\u001b[0m                         Traceback (most recent call last)",
            "\u001b[0;32m<ipython-input-10-51831efc4427>\u001b[0m in \u001b[0;36m<module>\u001b[0;34m()\u001b[0m\n\u001b[1;32m      1\u001b[0m \u001b[0mprint\u001b[0m\u001b[0;34m(\u001b[0m\u001b[0;34m'-------Enter the link for the data to be tested--------'\u001b[0m\u001b[0;34m)\u001b[0m\u001b[0;34m\u001b[0m\u001b[0;34m\u001b[0m\u001b[0m\n\u001b[0;32m----> 2\u001b[0;31m \u001b[0mL\u001b[0m\u001b[0;34m=\u001b[0m\u001b[0minput\u001b[0m\u001b[0;34m(\u001b[0m\u001b[0;34m)\u001b[0m\u001b[0;34m\u001b[0m\u001b[0;34m\u001b[0m\u001b[0m\n\u001b[0m",
            "\u001b[0;32m/usr/local/lib/python3.7/dist-packages/ipykernel/kernelbase.py\u001b[0m in \u001b[0;36mraw_input\u001b[0;34m(self, prompt)\u001b[0m\n\u001b[1;32m    702\u001b[0m             \u001b[0mself\u001b[0m\u001b[0;34m.\u001b[0m\u001b[0m_parent_ident\u001b[0m\u001b[0;34m,\u001b[0m\u001b[0;34m\u001b[0m\u001b[0;34m\u001b[0m\u001b[0m\n\u001b[1;32m    703\u001b[0m             \u001b[0mself\u001b[0m\u001b[0;34m.\u001b[0m\u001b[0m_parent_header\u001b[0m\u001b[0;34m,\u001b[0m\u001b[0;34m\u001b[0m\u001b[0;34m\u001b[0m\u001b[0m\n\u001b[0;32m--> 704\u001b[0;31m             \u001b[0mpassword\u001b[0m\u001b[0;34m=\u001b[0m\u001b[0;32mFalse\u001b[0m\u001b[0;34m,\u001b[0m\u001b[0;34m\u001b[0m\u001b[0;34m\u001b[0m\u001b[0m\n\u001b[0m\u001b[1;32m    705\u001b[0m         )\n\u001b[1;32m    706\u001b[0m \u001b[0;34m\u001b[0m\u001b[0m\n",
            "\u001b[0;32m/usr/local/lib/python3.7/dist-packages/ipykernel/kernelbase.py\u001b[0m in \u001b[0;36m_input_request\u001b[0;34m(self, prompt, ident, parent, password)\u001b[0m\n\u001b[1;32m    732\u001b[0m             \u001b[0;32mexcept\u001b[0m \u001b[0mKeyboardInterrupt\u001b[0m\u001b[0;34m:\u001b[0m\u001b[0;34m\u001b[0m\u001b[0;34m\u001b[0m\u001b[0m\n\u001b[1;32m    733\u001b[0m                 \u001b[0;31m# re-raise KeyboardInterrupt, to truncate traceback\u001b[0m\u001b[0;34m\u001b[0m\u001b[0;34m\u001b[0m\u001b[0;34m\u001b[0m\u001b[0m\n\u001b[0;32m--> 734\u001b[0;31m                 \u001b[0;32mraise\u001b[0m \u001b[0mKeyboardInterrupt\u001b[0m\u001b[0;34m\u001b[0m\u001b[0;34m\u001b[0m\u001b[0m\n\u001b[0m\u001b[1;32m    735\u001b[0m             \u001b[0;32melse\u001b[0m\u001b[0;34m:\u001b[0m\u001b[0;34m\u001b[0m\u001b[0;34m\u001b[0m\u001b[0m\n\u001b[1;32m    736\u001b[0m                 \u001b[0;32mbreak\u001b[0m\u001b[0;34m\u001b[0m\u001b[0;34m\u001b[0m\u001b[0m\n",
            "\u001b[0;31mKeyboardInterrupt\u001b[0m: "
          ]
        }
      ]
    },
    {
      "cell_type": "code",
      "metadata": {
        "id": "Y5BfUCMuWTD0"
      },
      "source": [
        "request = requests.get(L)\n",
        "D=request.json()\n"
      ],
      "execution_count": null,
      "outputs": []
    },
    {
      "cell_type": "code",
      "metadata": {
        "colab": {
          "base_uri": "https://localhost:8080/"
        },
        "id": "2RZYgT9yYqGf",
        "outputId": "fc8f3533-8102-44fe-b1a9-8c5dc1e99500"
      },
      "source": [
        "D"
      ],
      "execution_count": null,
      "outputs": [
        {
          "output_type": "execute_result",
          "data": {
            "text/plain": [
              "{'iss_position': {'latitude': '12.0197', 'longitude': '112.3240'},\n",
              " 'message': 'success',\n",
              " 'timestamp': 1622900153}"
            ]
          },
          "metadata": {
            "tags": []
          },
          "execution_count": 28
        }
      ]
    },
    {
      "cell_type": "code",
      "metadata": {
        "id": "d1APzD1ZWZiv"
      },
      "source": [
        "D={\"question_key\": \"q1\",\"options\":[\"Diabetes\",\"Thyroid\",\"Cancer\"],\"audio\": '/content/drive/MyDrive/SpeechRecognition/1.wav'}"
      ],
      "execution_count": 11,
      "outputs": []
    },
    {
      "cell_type": "code",
      "metadata": {
        "id": "Niv_9n-WZu-7"
      },
      "source": [
        "import speech_recognition as sr\n",
        "def speech_text(audio):\n",
        "  # Initialize recognizer class (for recognizing the speech)\n",
        "  r = sr.Recognizer()\n",
        "  # Reading Audio file as source\n",
        "  # listening the audio file and store in audio_text variable\n",
        "  with sr.AudioFile(audio) as source:\n",
        "    audio_text = r.listen(source)\n",
        "  # recoginize_() method will throw a request error if the API is unreachable, hence using exception handling\n",
        "  try:\n",
        "  # using google speech recognition\n",
        "    text = r.recognize_google(audio_text)\n",
        "  except:\n",
        "    print('Sorry.. run again...')\n",
        "  return text"
      ],
      "execution_count": 12,
      "outputs": []
    },
    {
      "cell_type": "code",
      "metadata": {
        "id": "RhPLIv-zZO5J",
        "colab": {
          "base_uri": "https://localhost:8080/",
          "height": 329
        },
        "outputId": "eca7f7f7-76fc-4679-d60a-21675dcf3af2"
      },
      "source": [
        "audio=D[\"audio\"]\n",
        "text=speech_text(audio)"
      ],
      "execution_count": 13,
      "outputs": [
        {
          "output_type": "error",
          "ename": "FileNotFoundError",
          "evalue": "ignored",
          "traceback": [
            "\u001b[0;31m---------------------------------------------------------------------------\u001b[0m",
            "\u001b[0;31mFileNotFoundError\u001b[0m                         Traceback (most recent call last)",
            "\u001b[0;32m<ipython-input-13-1f1620ea0c33>\u001b[0m in \u001b[0;36m<module>\u001b[0;34m()\u001b[0m\n\u001b[1;32m      1\u001b[0m \u001b[0maudio\u001b[0m\u001b[0;34m=\u001b[0m\u001b[0mD\u001b[0m\u001b[0;34m[\u001b[0m\u001b[0;34m\"audio\"\u001b[0m\u001b[0;34m]\u001b[0m\u001b[0;34m\u001b[0m\u001b[0;34m\u001b[0m\u001b[0m\n\u001b[0;32m----> 2\u001b[0;31m \u001b[0mtext\u001b[0m\u001b[0;34m=\u001b[0m\u001b[0mspeech_text\u001b[0m\u001b[0;34m(\u001b[0m\u001b[0maudio\u001b[0m\u001b[0;34m)\u001b[0m\u001b[0;34m\u001b[0m\u001b[0;34m\u001b[0m\u001b[0m\n\u001b[0m",
            "\u001b[0;32m<ipython-input-12-58066ebf0f00>\u001b[0m in \u001b[0;36mspeech_text\u001b[0;34m(audio)\u001b[0m\n\u001b[1;32m      5\u001b[0m   \u001b[0;31m# Reading Audio file as source\u001b[0m\u001b[0;34m\u001b[0m\u001b[0;34m\u001b[0m\u001b[0;34m\u001b[0m\u001b[0m\n\u001b[1;32m      6\u001b[0m   \u001b[0;31m# listening the audio file and store in audio_text variable\u001b[0m\u001b[0;34m\u001b[0m\u001b[0;34m\u001b[0m\u001b[0;34m\u001b[0m\u001b[0m\n\u001b[0;32m----> 7\u001b[0;31m   \u001b[0;32mwith\u001b[0m \u001b[0msr\u001b[0m\u001b[0;34m.\u001b[0m\u001b[0mAudioFile\u001b[0m\u001b[0;34m(\u001b[0m\u001b[0maudio\u001b[0m\u001b[0;34m)\u001b[0m \u001b[0;32mas\u001b[0m \u001b[0msource\u001b[0m\u001b[0;34m:\u001b[0m\u001b[0;34m\u001b[0m\u001b[0;34m\u001b[0m\u001b[0m\n\u001b[0m\u001b[1;32m      8\u001b[0m     \u001b[0maudio_text\u001b[0m \u001b[0;34m=\u001b[0m \u001b[0mr\u001b[0m\u001b[0;34m.\u001b[0m\u001b[0mlisten\u001b[0m\u001b[0;34m(\u001b[0m\u001b[0msource\u001b[0m\u001b[0;34m)\u001b[0m\u001b[0;34m\u001b[0m\u001b[0;34m\u001b[0m\u001b[0m\n\u001b[1;32m      9\u001b[0m   \u001b[0;31m# recoginize_() method will throw a request error if the API is unreachable, hence using exception handling\u001b[0m\u001b[0;34m\u001b[0m\u001b[0;34m\u001b[0m\u001b[0;34m\u001b[0m\u001b[0m\n",
            "\u001b[0;32m/usr/local/lib/python3.7/dist-packages/speech_recognition/__init__.py\u001b[0m in \u001b[0;36m__enter__\u001b[0;34m(self)\u001b[0m\n\u001b[1;32m    201\u001b[0m         \u001b[0;32mtry\u001b[0m\u001b[0;34m:\u001b[0m\u001b[0;34m\u001b[0m\u001b[0;34m\u001b[0m\u001b[0m\n\u001b[1;32m    202\u001b[0m             \u001b[0;31m# attempt to read the file as WAV\u001b[0m\u001b[0;34m\u001b[0m\u001b[0;34m\u001b[0m\u001b[0;34m\u001b[0m\u001b[0m\n\u001b[0;32m--> 203\u001b[0;31m             \u001b[0mself\u001b[0m\u001b[0;34m.\u001b[0m\u001b[0maudio_reader\u001b[0m \u001b[0;34m=\u001b[0m \u001b[0mwave\u001b[0m\u001b[0;34m.\u001b[0m\u001b[0mopen\u001b[0m\u001b[0;34m(\u001b[0m\u001b[0mself\u001b[0m\u001b[0;34m.\u001b[0m\u001b[0mfilename_or_fileobject\u001b[0m\u001b[0;34m,\u001b[0m \u001b[0;34m\"rb\"\u001b[0m\u001b[0;34m)\u001b[0m\u001b[0;34m\u001b[0m\u001b[0;34m\u001b[0m\u001b[0m\n\u001b[0m\u001b[1;32m    204\u001b[0m             \u001b[0mself\u001b[0m\u001b[0;34m.\u001b[0m\u001b[0mlittle_endian\u001b[0m \u001b[0;34m=\u001b[0m \u001b[0;32mTrue\u001b[0m  \u001b[0;31m# RIFF WAV is a little-endian format (most ``audioop`` operations assume that the frames are stored in little-endian form)\u001b[0m\u001b[0;34m\u001b[0m\u001b[0;34m\u001b[0m\u001b[0m\n\u001b[1;32m    205\u001b[0m         \u001b[0;32mexcept\u001b[0m \u001b[0;34m(\u001b[0m\u001b[0mwave\u001b[0m\u001b[0;34m.\u001b[0m\u001b[0mError\u001b[0m\u001b[0;34m,\u001b[0m \u001b[0mEOFError\u001b[0m\u001b[0;34m)\u001b[0m\u001b[0;34m:\u001b[0m\u001b[0;34m\u001b[0m\u001b[0;34m\u001b[0m\u001b[0m\n",
            "\u001b[0;32m/usr/lib/python3.7/wave.py\u001b[0m in \u001b[0;36mopen\u001b[0;34m(f, mode)\u001b[0m\n\u001b[1;32m    508\u001b[0m             \u001b[0mmode\u001b[0m \u001b[0;34m=\u001b[0m \u001b[0;34m'rb'\u001b[0m\u001b[0;34m\u001b[0m\u001b[0;34m\u001b[0m\u001b[0m\n\u001b[1;32m    509\u001b[0m     \u001b[0;32mif\u001b[0m \u001b[0mmode\u001b[0m \u001b[0;32min\u001b[0m \u001b[0;34m(\u001b[0m\u001b[0;34m'r'\u001b[0m\u001b[0;34m,\u001b[0m \u001b[0;34m'rb'\u001b[0m\u001b[0;34m)\u001b[0m\u001b[0;34m:\u001b[0m\u001b[0;34m\u001b[0m\u001b[0;34m\u001b[0m\u001b[0m\n\u001b[0;32m--> 510\u001b[0;31m         \u001b[0;32mreturn\u001b[0m \u001b[0mWave_read\u001b[0m\u001b[0;34m(\u001b[0m\u001b[0mf\u001b[0m\u001b[0;34m)\u001b[0m\u001b[0;34m\u001b[0m\u001b[0;34m\u001b[0m\u001b[0m\n\u001b[0m\u001b[1;32m    511\u001b[0m     \u001b[0;32melif\u001b[0m \u001b[0mmode\u001b[0m \u001b[0;32min\u001b[0m \u001b[0;34m(\u001b[0m\u001b[0;34m'w'\u001b[0m\u001b[0;34m,\u001b[0m \u001b[0;34m'wb'\u001b[0m\u001b[0;34m)\u001b[0m\u001b[0;34m:\u001b[0m\u001b[0;34m\u001b[0m\u001b[0;34m\u001b[0m\u001b[0m\n\u001b[1;32m    512\u001b[0m         \u001b[0;32mreturn\u001b[0m \u001b[0mWave_write\u001b[0m\u001b[0;34m(\u001b[0m\u001b[0mf\u001b[0m\u001b[0;34m)\u001b[0m\u001b[0;34m\u001b[0m\u001b[0;34m\u001b[0m\u001b[0m\n",
            "\u001b[0;32m/usr/lib/python3.7/wave.py\u001b[0m in \u001b[0;36m__init__\u001b[0;34m(self, f)\u001b[0m\n\u001b[1;32m    158\u001b[0m         \u001b[0mself\u001b[0m\u001b[0;34m.\u001b[0m\u001b[0m_i_opened_the_file\u001b[0m \u001b[0;34m=\u001b[0m \u001b[0;32mNone\u001b[0m\u001b[0;34m\u001b[0m\u001b[0;34m\u001b[0m\u001b[0m\n\u001b[1;32m    159\u001b[0m         \u001b[0;32mif\u001b[0m \u001b[0misinstance\u001b[0m\u001b[0;34m(\u001b[0m\u001b[0mf\u001b[0m\u001b[0;34m,\u001b[0m \u001b[0mstr\u001b[0m\u001b[0;34m)\u001b[0m\u001b[0;34m:\u001b[0m\u001b[0;34m\u001b[0m\u001b[0;34m\u001b[0m\u001b[0m\n\u001b[0;32m--> 160\u001b[0;31m             \u001b[0mf\u001b[0m \u001b[0;34m=\u001b[0m \u001b[0mbuiltins\u001b[0m\u001b[0;34m.\u001b[0m\u001b[0mopen\u001b[0m\u001b[0;34m(\u001b[0m\u001b[0mf\u001b[0m\u001b[0;34m,\u001b[0m \u001b[0;34m'rb'\u001b[0m\u001b[0;34m)\u001b[0m\u001b[0;34m\u001b[0m\u001b[0;34m\u001b[0m\u001b[0m\n\u001b[0m\u001b[1;32m    161\u001b[0m             \u001b[0mself\u001b[0m\u001b[0;34m.\u001b[0m\u001b[0m_i_opened_the_file\u001b[0m \u001b[0;34m=\u001b[0m \u001b[0mf\u001b[0m\u001b[0;34m\u001b[0m\u001b[0;34m\u001b[0m\u001b[0m\n\u001b[1;32m    162\u001b[0m         \u001b[0;31m# else, assume it is an open file object already\u001b[0m\u001b[0;34m\u001b[0m\u001b[0;34m\u001b[0m\u001b[0;34m\u001b[0m\u001b[0m\n",
            "\u001b[0;31mFileNotFoundError\u001b[0m: [Errno 2] No such file or directory: '/content/drive/MyDrive/SpeechRecognition/1.wav'"
          ]
        }
      ]
    },
    {
      "cell_type": "code",
      "metadata": {
        "id": "azwORZICax6W"
      },
      "source": [
        "def q1(text,options):\n",
        "  \n",
        "  return answers"
      ],
      "execution_count": null,
      "outputs": []
    },
    {
      "cell_type": "code",
      "metadata": {
        "id": "tBLgqShiY1mP"
      },
      "source": [
        "q=D['question_key']\n",
        "if q=='q1':\n",
        "  options=D['options']\n",
        "  answers=q1(text,options)\n",
        "\n"
      ],
      "execution_count": null,
      "outputs": []
    },
    {
      "cell_type": "code",
      "metadata": {
        "colab": {
          "base_uri": "https://localhost:8080/",
          "height": 35
        },
        "id": "ImRQ9wqRZGdc",
        "outputId": "4d609c3c-9b64-45e5-a514-3649801e1c3f"
      },
      "source": [
        "q"
      ],
      "execution_count": null,
      "outputs": [
        {
          "output_type": "execute_result",
          "data": {
            "application/vnd.google.colaboratory.intrinsic+json": {
              "type": "string"
            },
            "text/plain": [
              "'q1'"
            ]
          },
          "metadata": {
            "tags": []
          },
          "execution_count": 32
        }
      ]
    },
    {
      "cell_type": "code",
      "metadata": {
        "id": "HngqtSQDgzhi"
      },
      "source": [
        ""
      ],
      "execution_count": null,
      "outputs": []
    },
    {
      "cell_type": "code",
      "metadata": {
        "id": "4Dpw3sTDgbXP",
        "colab": {
          "base_uri": "https://localhost:8080/"
        },
        "outputId": "3f155afd-b821-45df-db85-3f8a3520231c"
      },
      "source": [
        "import rasa_nlu\n",
        "import rasa_core\n",
        "import spacy"
      ],
      "execution_count": 14,
      "outputs": [
        {
          "output_type": "stream",
          "text": [
            "/usr/lib/python3.7/importlib/_bootstrap.py:219: RuntimeWarning: greenlet.greenlet size changed, may indicate binary incompatibility. Expected 144 from C header, got 152 from PyObject\n",
            "  return f(*args, **kwds)\n",
            "/usr/lib/python3.7/importlib/_bootstrap.py:219: RuntimeWarning: greenlet.greenlet size changed, may indicate binary incompatibility. Expected 144 from C header, got 152 from PyObject\n",
            "  return f(*args, **kwds)\n",
            "/usr/lib/python3.7/importlib/_bootstrap.py:219: RuntimeWarning: greenlet.greenlet size changed, may indicate binary incompatibility. Expected 144 from C header, got 152 from PyObject\n",
            "  return f(*args, **kwds)\n",
            "/usr/lib/python3.7/importlib/_bootstrap.py:219: RuntimeWarning: greenlet.greenlet size changed, may indicate binary incompatibility. Expected 144 from C header, got 152 from PyObject\n",
            "  return f(*args, **kwds)\n",
            "/usr/lib/python3.7/importlib/_bootstrap.py:219: RuntimeWarning: greenlet.greenlet size changed, may indicate binary incompatibility. Expected 144 from C header, got 152 from PyObject\n",
            "  return f(*args, **kwds)\n",
            "/usr/lib/python3.7/importlib/_bootstrap.py:219: RuntimeWarning: greenlet.greenlet size changed, may indicate binary incompatibility. Expected 144 from C header, got 152 from PyObject\n",
            "  return f(*args, **kwds)\n",
            "/usr/local/lib/python3.7/dist-packages/tensorflow/python/framework/dtypes.py:526: FutureWarning: Passing (type, 1) or '1type' as a synonym of type is deprecated; in a future version of numpy, it will be understood as (type, (1,)) / '(1,)type'.\n",
            "  _np_qint8 = np.dtype([(\"qint8\", np.int8, 1)])\n",
            "/usr/local/lib/python3.7/dist-packages/tensorflow/python/framework/dtypes.py:527: FutureWarning: Passing (type, 1) or '1type' as a synonym of type is deprecated; in a future version of numpy, it will be understood as (type, (1,)) / '(1,)type'.\n",
            "  _np_quint8 = np.dtype([(\"quint8\", np.uint8, 1)])\n",
            "/usr/local/lib/python3.7/dist-packages/tensorflow/python/framework/dtypes.py:528: FutureWarning: Passing (type, 1) or '1type' as a synonym of type is deprecated; in a future version of numpy, it will be understood as (type, (1,)) / '(1,)type'.\n",
            "  _np_qint16 = np.dtype([(\"qint16\", np.int16, 1)])\n",
            "/usr/local/lib/python3.7/dist-packages/tensorflow/python/framework/dtypes.py:529: FutureWarning: Passing (type, 1) or '1type' as a synonym of type is deprecated; in a future version of numpy, it will be understood as (type, (1,)) / '(1,)type'.\n",
            "  _np_quint16 = np.dtype([(\"quint16\", np.uint16, 1)])\n",
            "/usr/local/lib/python3.7/dist-packages/tensorflow/python/framework/dtypes.py:530: FutureWarning: Passing (type, 1) or '1type' as a synonym of type is deprecated; in a future version of numpy, it will be understood as (type, (1,)) / '(1,)type'.\n",
            "  _np_qint32 = np.dtype([(\"qint32\", np.int32, 1)])\n",
            "/usr/local/lib/python3.7/dist-packages/tensorflow/python/framework/dtypes.py:535: FutureWarning: Passing (type, 1) or '1type' as a synonym of type is deprecated; in a future version of numpy, it will be understood as (type, (1,)) / '(1,)type'.\n",
            "  np_resource = np.dtype([(\"resource\", np.ubyte, 1)])\n"
          ],
          "name": "stderr"
        }
      ]
    },
    {
      "cell_type": "code",
      "metadata": {
        "id": "YN7sRAg6e6we"
      },
      "source": [
        "import rasa_nlu\n",
        "import rasa_core\n",
        "import spacy"
      ],
      "execution_count": null,
      "outputs": []
    },
    {
      "cell_type": "code",
      "metadata": {
        "id": "FguiB3MCe6wi"
      },
      "source": [
        "# Import modules for training\n",
        "from rasa_nlu.training_data import load_data\n",
        "from rasa_nlu.config import RasaNLUModelConfig\n",
        "from rasa_nlu.model import Trainer\n",
        "from rasa_nlu import config"
      ],
      "execution_count": 15,
      "outputs": []
    },
    {
      "cell_type": "code",
      "metadata": {
        "id": "UYNFW81Ye6wi",
        "outputId": "8f03ebd9-4fdd-42f1-8cb5-1747a8291a22"
      },
      "source": [
        "# loading the nlu training samples\n",
        "training_data = load_data(\"nlu.md\")\n",
        "trainer = Trainer(config.load(\"config.yml\"))"
      ],
      "execution_count": null,
      "outputs": [
        {
          "output_type": "stream",
          "text": [
            "C:\\Users\\Saahithi\\anaconda3\\envs\\env_py_36\\lib\\site-packages\\tensorflow\\python\\framework\\dtypes.py:519: FutureWarning: Passing (type, 1) or '1type' as a synonym of type is deprecated; in a future version of numpy, it will be understood as (type, (1,)) / '(1,)type'.\n",
            "  _np_qint8 = np.dtype([(\"qint8\", np.int8, 1)])\n",
            "C:\\Users\\Saahithi\\anaconda3\\envs\\env_py_36\\lib\\site-packages\\tensorflow\\python\\framework\\dtypes.py:520: FutureWarning: Passing (type, 1) or '1type' as a synonym of type is deprecated; in a future version of numpy, it will be understood as (type, (1,)) / '(1,)type'.\n",
            "  _np_quint8 = np.dtype([(\"quint8\", np.uint8, 1)])\n",
            "C:\\Users\\Saahithi\\anaconda3\\envs\\env_py_36\\lib\\site-packages\\tensorflow\\python\\framework\\dtypes.py:521: FutureWarning: Passing (type, 1) or '1type' as a synonym of type is deprecated; in a future version of numpy, it will be understood as (type, (1,)) / '(1,)type'.\n",
            "  _np_qint16 = np.dtype([(\"qint16\", np.int16, 1)])\n",
            "C:\\Users\\Saahithi\\anaconda3\\envs\\env_py_36\\lib\\site-packages\\tensorflow\\python\\framework\\dtypes.py:522: FutureWarning: Passing (type, 1) or '1type' as a synonym of type is deprecated; in a future version of numpy, it will be understood as (type, (1,)) / '(1,)type'.\n",
            "  _np_quint16 = np.dtype([(\"quint16\", np.uint16, 1)])\n",
            "C:\\Users\\Saahithi\\anaconda3\\envs\\env_py_36\\lib\\site-packages\\tensorflow\\python\\framework\\dtypes.py:523: FutureWarning: Passing (type, 1) or '1type' as a synonym of type is deprecated; in a future version of numpy, it will be understood as (type, (1,)) / '(1,)type'.\n",
            "  _np_qint32 = np.dtype([(\"qint32\", np.int32, 1)])\n",
            "C:\\Users\\Saahithi\\anaconda3\\envs\\env_py_36\\lib\\site-packages\\tensorflow\\python\\framework\\dtypes.py:528: FutureWarning: Passing (type, 1) or '1type' as a synonym of type is deprecated; in a future version of numpy, it will be understood as (type, (1,)) / '(1,)type'.\n",
            "  np_resource = np.dtype([(\"resource\", np.ubyte, 1)])\n"
          ],
          "name": "stderr"
        }
      ]
    },
    {
      "cell_type": "code",
      "metadata": {
        "id": "EcSRU77-e6wj",
        "outputId": "eec1be41-db0a-437e-ca0d-1f12ec962a85"
      },
      "source": [
        "# training the nlu\n",
        "interpreter = trainer.train(training_data)\n",
        "model_directory = trainer.persist(\"./models/nlu\", fixed_model_name=\"current\")"
      ],
      "execution_count": null,
      "outputs": [
        {
          "output_type": "stream",
          "text": [
            "Fitting 2 folds for each of 6 candidates, totalling 12 fits\n"
          ],
          "name": "stdout"
        },
        {
          "output_type": "stream",
          "text": [
            "[Parallel(n_jobs=1)]: Done  12 out of  12 | elapsed:    0.0s finished\n"
          ],
          "name": "stderr"
        }
      ]
    },
    {
      "cell_type": "code",
      "metadata": {
        "id": "E8i3yeREe6wj",
        "outputId": "678143ba-f5cf-492f-816b-4244a4cd0212"
      },
      "source": [
        "import json\n",
        "def pprint(o):   \n",
        "    print(json.dumps(o, indent=2))\n",
        "\n",
        "pprint(interpreter.parse(\"hi\"))"
      ],
      "execution_count": null,
      "outputs": [
        {
          "output_type": "stream",
          "text": [
            "{\n",
            "  \"intent\": {\n",
            "    \"name\": \"greet\",\n",
            "    \"confidence\": 0.788972797463024\n",
            "  },\n",
            "  \"entities\": [],\n",
            "  \"intent_ranking\": [\n",
            "    {\n",
            "      \"name\": \"greet\",\n",
            "      \"confidence\": 0.788972797463024\n",
            "    },\n",
            "    {\n",
            "      \"name\": \"name\",\n",
            "      \"confidence\": 0.06020464242674477\n",
            "    },\n",
            "    {\n",
            "      \"name\": \"order\",\n",
            "      \"confidence\": 0.04057661533805654\n",
            "    },\n",
            "    {\n",
            "      \"name\": \"goodbye\",\n",
            "      \"confidence\": 0.03084105498789908\n",
            "    },\n",
            "    {\n",
            "      \"name\": \"choosing_item\",\n",
            "      \"confidence\": 0.024737553437997748\n",
            "    },\n",
            "    {\n",
            "      \"name\": \"suggest\",\n",
            "      \"confidence\": 0.023522003326863845\n",
            "    },\n",
            "    {\n",
            "      \"name\": \"complain\",\n",
            "      \"confidence\": 0.02100868364071376\n",
            "    },\n",
            "    {\n",
            "      \"name\": \"order_enquiry\",\n",
            "      \"confidence\": 0.01013664937869995\n",
            "    }\n",
            "  ],\n",
            "  \"text\": \"hi\"\n",
            "}\n"
          ],
          "name": "stdout"
        }
      ]
    },
    {
      "cell_type": "code",
      "metadata": {
        "id": "kpdWZRMEe6wk",
        "outputId": "57f58e8e-806e-4556-c419-3266586eee0f"
      },
      "source": [
        "# Import the policies and agent\n",
        "from rasa_core.policies import FallbackPolicy, MemoizationPolicy,KerasPolicy\n",
        "from rasa_core.agent import Agent\n",
        "\n",
        "# Initialize the model with `domain.yml`\n",
        "agent = Agent('domain.yml', policies=[MemoizationPolicy(), KerasPolicy()])\n",
        "\n",
        "# loading our  training dialogues from `stories.md` \n",
        "training_data = agent.load_data('stories.md')\n",
        "\n",
        "\n",
        "# Training the model\n",
        "agent.train(\n",
        "    training_data,\n",
        "    validation_split=0.0,\n",
        "    epochs=200\n",
        ")\n",
        "\n",
        "agent.persist('models/dialogue')"
      ],
      "execution_count": null,
      "outputs": [
        {
          "output_type": "stream",
          "text": [
            "Using TensorFlow backend.\n",
            "C:\\Users\\Saahithi\\anaconda3\\envs\\env_py_36\\lib\\site-packages\\rasa_core\\utils.py:341: YAMLLoadWarning: calling yaml.load() without Loader=... is deprecated, as the default Loader is unsafe. Please read https://msg.pyyaml.org/load for full details.\n",
            "  return yaml.load(read_file(filename, \"utf-8\"))\n",
            "Processed Story Blocks: 100%|██████████| 7/7 [00:00<00:00, 1412.16it/s, # trackers=1]\n",
            "Processed Story Blocks: 100%|██████████| 7/7 [00:00<00:00, 584.90it/s, # trackers=7]\n",
            "Processed Story Blocks: 100%|██████████| 7/7 [00:00<00:00, 305.75it/s, # trackers=20]\n",
            "Processed Story Blocks: 100%|██████████| 7/7 [00:00<00:00, 280.76it/s, # trackers=20]\n",
            "Processed trackers: 100%|██████████| 301/301 [00:02<00:00, 148.31it/s, # actions=451]\n",
            "Processed actions: 451it [00:00, 1034.80it/s, # examples=451]\n",
            "Processed trackers: 100%|██████████| 301/301 [00:02<00:00, 150.30it/s, # actions=451]\n"
          ],
          "name": "stderr"
        },
        {
          "output_type": "stream",
          "text": [
            "_________________________________________________________________\n",
            "Layer (type)                 Output Shape              Param #   \n",
            "=================================================================\n",
            "masking_1 (Masking)          (None, 5, 22)             0         \n",
            "_________________________________________________________________\n",
            "lstm_1 (LSTM)                (None, 32)                7040      \n",
            "_________________________________________________________________\n",
            "dense_1 (Dense)              (None, 10)                330       \n",
            "_________________________________________________________________\n",
            "activation_1 (Activation)    (None, 10)                0         \n",
            "=================================================================\n",
            "Total params: 7,370\n",
            "Trainable params: 7,370\n",
            "Non-trainable params: 0\n",
            "_________________________________________________________________\n",
            "Epoch 1/200\n",
            "451/451 [==============================] - 1s 2ms/step - loss: 2.2075 - acc: 0.3792\n",
            "Epoch 2/200\n",
            "451/451 [==============================] - 0s 164us/step - loss: 2.0623 - acc: 0.5011\n",
            "Epoch 3/200\n",
            "451/451 [==============================] - 0s 161us/step - loss: 1.8833 - acc: 0.5011\n",
            "Epoch 4/200\n",
            "451/451 [==============================] - 0s 166us/step - loss: 1.7459 - acc: 0.5011\n",
            "Epoch 5/200\n",
            "451/451 [==============================] - 0s 159us/step - loss: 1.7057 - acc: 0.5011\n",
            "Epoch 6/200\n",
            "451/451 [==============================] - 0s 170us/step - loss: 1.6580 - acc: 0.5011\n",
            "Epoch 7/200\n",
            "451/451 [==============================] - 0s 170us/step - loss: 1.6481 - acc: 0.5011\n",
            "Epoch 8/200\n",
            "451/451 [==============================] - 0s 164us/step - loss: 1.6113 - acc: 0.5011\n",
            "Epoch 9/200\n",
            "451/451 [==============================] - 0s 172us/step - loss: 1.5885 - acc: 0.5011\n",
            "Epoch 10/200\n",
            "451/451 [==============================] - ETA: 0s - loss: 1.5752 - acc: 0.506 - 0s 190us/step - loss: 1.5754 - acc: 0.5011\n",
            "Epoch 11/200\n",
            "451/451 [==============================] - 0s 159us/step - loss: 1.5407 - acc: 0.5011\n",
            "Epoch 12/200\n",
            "451/451 [==============================] - 0s 148us/step - loss: 1.5395 - acc: 0.5011\n",
            "Epoch 13/200\n",
            "451/451 [==============================] - 0s 144us/step - loss: 1.4985 - acc: 0.5011\n",
            "Epoch 14/200\n",
            "451/451 [==============================] - 0s 139us/step - loss: 1.4766 - acc: 0.5033\n",
            "Epoch 15/200\n",
            "451/451 [==============================] - 0s 135us/step - loss: 1.4674 - acc: 0.5011\n",
            "Epoch 16/200\n",
            "451/451 [==============================] - 0s 135us/step - loss: 1.4309 - acc: 0.5055\n",
            "Epoch 17/200\n",
            "451/451 [==============================] - 0s 135us/step - loss: 1.3981 - acc: 0.5078\n",
            "Epoch 18/200\n",
            "451/451 [==============================] - 0s 135us/step - loss: 1.3800 - acc: 0.5122\n",
            "Epoch 19/200\n",
            "451/451 [==============================] - 0s 130us/step - loss: 1.3588 - acc: 0.5100\n",
            "Epoch 20/200\n",
            "451/451 [==============================] - 0s 139us/step - loss: 1.2983 - acc: 0.5166\n",
            "Epoch 21/200\n",
            "451/451 [==============================] - 0s 144us/step - loss: 1.2725 - acc: 0.5410\n",
            "Epoch 22/200\n",
            "451/451 [==============================] - 0s 137us/step - loss: 1.2368 - acc: 0.5299\n",
            "Epoch 23/200\n",
            "451/451 [==============================] - 0s 133us/step - loss: 1.2236 - acc: 0.5499\n",
            "Epoch 24/200\n",
            "451/451 [==============================] - 0s 133us/step - loss: 1.2032 - acc: 0.5366\n",
            "Epoch 25/200\n",
            "451/451 [==============================] - 0s 135us/step - loss: 1.1220 - acc: 0.5765\n",
            "Epoch 26/200\n",
            "451/451 [==============================] - 0s 137us/step - loss: 1.0913 - acc: 0.6053\n",
            "Epoch 27/200\n",
            "451/451 [==============================] - 0s 128us/step - loss: 1.0471 - acc: 0.6696\n",
            "Epoch 28/200\n",
            "451/451 [==============================] - 0s 133us/step - loss: 0.9992 - acc: 0.7029\n",
            "Epoch 29/200\n",
            "451/451 [==============================] - 0s 137us/step - loss: 0.9481 - acc: 0.7761\n",
            "Epoch 30/200\n",
            "451/451 [==============================] - 0s 137us/step - loss: 0.8697 - acc: 0.8226\n",
            "Epoch 31/200\n",
            "451/451 [==============================] - 0s 133us/step - loss: 0.8361 - acc: 0.8559\n",
            "Epoch 32/200\n",
            "451/451 [==============================] - 0s 137us/step - loss: 0.8005 - acc: 0.8780\n",
            "Epoch 33/200\n",
            "451/451 [==============================] - 0s 137us/step - loss: 0.7617 - acc: 0.8736\n",
            "Epoch 34/200\n",
            "451/451 [==============================] - 0s 137us/step - loss: 0.7019 - acc: 0.9069\n",
            "Epoch 35/200\n",
            "451/451 [==============================] - 0s 135us/step - loss: 0.6569 - acc: 0.9401\n",
            "Epoch 36/200\n",
            "451/451 [==============================] - 0s 137us/step - loss: 0.6319 - acc: 0.9135\n",
            "Epoch 37/200\n",
            "451/451 [==============================] - 0s 139us/step - loss: 0.6373 - acc: 0.9069\n",
            "Epoch 38/200\n",
            "451/451 [==============================] - 0s 139us/step - loss: 0.5519 - acc: 0.9468\n",
            "Epoch 39/200\n",
            "451/451 [==============================] - 0s 135us/step - loss: 0.5437 - acc: 0.9446\n",
            "Epoch 40/200\n",
            "451/451 [==============================] - 0s 133us/step - loss: 0.5099 - acc: 0.9424\n",
            "Epoch 41/200\n",
            "451/451 [==============================] - 0s 135us/step - loss: 0.4769 - acc: 0.9557\n",
            "Epoch 42/200\n",
            "451/451 [==============================] - 0s 159us/step - loss: 0.4630 - acc: 0.9379\n",
            "Epoch 43/200\n",
            "451/451 [==============================] - 0s 137us/step - loss: 0.4153 - acc: 0.9690\n",
            "Epoch 44/200\n",
            "451/451 [==============================] - 0s 137us/step - loss: 0.4387 - acc: 0.9446\n",
            "Epoch 45/200\n",
            "451/451 [==============================] - 0s 139us/step - loss: 0.3961 - acc: 0.9712\n",
            "Epoch 46/200\n",
            "451/451 [==============================] - 0s 139us/step - loss: 0.3553 - acc: 0.9756\n",
            "Epoch 47/200\n",
            "451/451 [==============================] - 0s 146us/step - loss: 0.3347 - acc: 0.9845\n",
            "Epoch 48/200\n",
            "451/451 [==============================] - 0s 137us/step - loss: 0.3316 - acc: 0.9667\n",
            "Epoch 49/200\n",
            "451/451 [==============================] - 0s 137us/step - loss: 0.2976 - acc: 0.9734\n",
            "Epoch 50/200\n",
            "451/451 [==============================] - 0s 133us/step - loss: 0.2929 - acc: 0.9690\n",
            "Epoch 51/200\n",
            "451/451 [==============================] - 0s 135us/step - loss: 0.3131 - acc: 0.9468\n",
            "Epoch 52/200\n",
            "451/451 [==============================] - 0s 137us/step - loss: 0.2568 - acc: 0.9690\n",
            "Epoch 53/200\n",
            "451/451 [==============================] - 0s 139us/step - loss: 0.2541 - acc: 0.9667\n",
            "Epoch 54/200\n",
            "451/451 [==============================] - 0s 137us/step - loss: 0.2698 - acc: 0.9800\n",
            "Epoch 55/200\n",
            "451/451 [==============================] - 0s 130us/step - loss: 0.2499 - acc: 0.9756\n",
            "Epoch 56/200\n",
            "451/451 [==============================] - 0s 144us/step - loss: 0.2179 - acc: 0.9800\n",
            "Epoch 57/200\n",
            "451/451 [==============================] - 0s 139us/step - loss: 0.2381 - acc: 0.9690\n",
            "Epoch 58/200\n",
            "451/451 [==============================] - 0s 135us/step - loss: 0.1775 - acc: 0.9823\n",
            "Epoch 59/200\n",
            "451/451 [==============================] - 0s 135us/step - loss: 0.2374 - acc: 0.9823\n",
            "Epoch 60/200\n",
            "451/451 [==============================] - 0s 135us/step - loss: 0.2229 - acc: 0.9712\n",
            "Epoch 61/200\n",
            "451/451 [==============================] - 0s 137us/step - loss: 0.1847 - acc: 0.9867\n",
            "Epoch 62/200\n",
            "451/451 [==============================] - 0s 155us/step - loss: 0.1822 - acc: 0.9823\n",
            "Epoch 63/200\n",
            "451/451 [==============================] - 0s 137us/step - loss: 0.1568 - acc: 0.9889\n",
            "Epoch 64/200\n",
            "451/451 [==============================] - 0s 139us/step - loss: 0.1828 - acc: 0.9800\n",
            "Epoch 65/200\n",
            "451/451 [==============================] - 0s 135us/step - loss: 0.1347 - acc: 0.9800\n",
            "Epoch 66/200\n",
            "451/451 [==============================] - 0s 135us/step - loss: 0.1267 - acc: 0.9867\n",
            "Epoch 67/200\n",
            "451/451 [==============================] - 0s 133us/step - loss: 0.1252 - acc: 0.9956\n",
            "Epoch 68/200\n",
            "451/451 [==============================] - 0s 137us/step - loss: 0.1560 - acc: 0.9845\n",
            "Epoch 69/200\n",
            "451/451 [==============================] - 0s 135us/step - loss: 0.1580 - acc: 0.9756\n",
            "Epoch 70/200\n",
            "451/451 [==============================] - 0s 137us/step - loss: 0.1557 - acc: 0.9933\n",
            "Epoch 71/200\n",
            "451/451 [==============================] - 0s 130us/step - loss: 0.1446 - acc: 0.9845\n",
            "Epoch 72/200\n",
            "451/451 [==============================] - 0s 137us/step - loss: 0.1266 - acc: 0.9889\n",
            "Epoch 73/200\n",
            "451/451 [==============================] - 0s 144us/step - loss: 0.1296 - acc: 0.9911\n",
            "Epoch 74/200\n"
          ],
          "name": "stdout"
        },
        {
          "output_type": "stream",
          "text": [
            "451/451 [==============================] - 0s 146us/step - loss: 0.1590 - acc: 0.9823\n",
            "Epoch 75/200\n",
            "451/451 [==============================] - 0s 137us/step - loss: 0.1346 - acc: 0.9867\n",
            "Epoch 76/200\n",
            "451/451 [==============================] - 0s 142us/step - loss: 0.1268 - acc: 0.9867\n",
            "Epoch 77/200\n",
            "451/451 [==============================] - 0s 133us/step - loss: 0.1188 - acc: 0.9867\n",
            "Epoch 78/200\n",
            "451/451 [==============================] - 0s 133us/step - loss: 0.0932 - acc: 0.9911\n",
            "Epoch 79/200\n",
            "451/451 [==============================] - 0s 135us/step - loss: 0.1187 - acc: 0.9867\n",
            "Epoch 80/200\n",
            "451/451 [==============================] - 0s 135us/step - loss: 0.1298 - acc: 0.9911\n",
            "Epoch 81/200\n",
            "451/451 [==============================] - 0s 133us/step - loss: 0.1296 - acc: 0.9845\n",
            "Epoch 82/200\n",
            "451/451 [==============================] - 0s 130us/step - loss: 0.0988 - acc: 0.9933\n",
            "Epoch 83/200\n",
            "451/451 [==============================] - 0s 139us/step - loss: 0.1022 - acc: 0.9911\n",
            "Epoch 84/200\n",
            "451/451 [==============================] - 0s 137us/step - loss: 0.1284 - acc: 0.9867\n",
            "Epoch 85/200\n",
            "451/451 [==============================] - 0s 133us/step - loss: 0.0947 - acc: 0.9889\n",
            "Epoch 86/200\n",
            "451/451 [==============================] - 0s 130us/step - loss: 0.1014 - acc: 0.9911\n",
            "Epoch 87/200\n",
            "451/451 [==============================] - 0s 135us/step - loss: 0.1103 - acc: 0.9933\n",
            "Epoch 88/200\n",
            "451/451 [==============================] - 0s 126us/step - loss: 0.1032 - acc: 0.9911\n",
            "Epoch 89/200\n",
            "451/451 [==============================] - 0s 135us/step - loss: 0.0841 - acc: 0.9867\n",
            "Epoch 90/200\n",
            "451/451 [==============================] - 0s 137us/step - loss: 0.1141 - acc: 0.9911\n",
            "Epoch 91/200\n",
            "451/451 [==============================] - 0s 139us/step - loss: 0.0792 - acc: 0.9978\n",
            "Epoch 92/200\n",
            "451/451 [==============================] - 0s 133us/step - loss: 0.0925 - acc: 0.9911\n",
            "Epoch 93/200\n",
            "451/451 [==============================] - 0s 135us/step - loss: 0.1034 - acc: 0.9933\n",
            "Epoch 94/200\n",
            "451/451 [==============================] - 0s 128us/step - loss: 0.1107 - acc: 0.9823\n",
            "Epoch 95/200\n",
            "451/451 [==============================] - 0s 137us/step - loss: 0.0915 - acc: 0.9889\n",
            "Epoch 96/200\n",
            "451/451 [==============================] - 0s 135us/step - loss: 0.0709 - acc: 0.9911\n",
            "Epoch 97/200\n",
            "451/451 [==============================] - 0s 135us/step - loss: 0.0707 - acc: 0.9978\n",
            "Epoch 98/200\n",
            "451/451 [==============================] - 0s 130us/step - loss: 0.0813 - acc: 0.9978\n",
            "Epoch 99/200\n",
            "451/451 [==============================] - 0s 137us/step - loss: 0.0719 - acc: 0.9933\n",
            "Epoch 100/200\n",
            "451/451 [==============================] - 0s 150us/step - loss: 0.0726 - acc: 0.9933\n",
            "Epoch 101/200\n",
            "451/451 [==============================] - 0s 139us/step - loss: 0.0793 - acc: 0.9867\n",
            "Epoch 102/200\n",
            "451/451 [==============================] - 0s 137us/step - loss: 0.0721 - acc: 0.9956\n",
            "Epoch 103/200\n",
            "451/451 [==============================] - 0s 139us/step - loss: 0.0695 - acc: 0.9933\n",
            "Epoch 104/200\n",
            "451/451 [==============================] - 0s 135us/step - loss: 0.0826 - acc: 0.9911\n",
            "Epoch 105/200\n",
            "451/451 [==============================] - 0s 126us/step - loss: 0.0765 - acc: 0.9933\n",
            "Epoch 106/200\n",
            "451/451 [==============================] - 0s 139us/step - loss: 0.0480 - acc: 1.0000\n",
            "Epoch 107/200\n",
            "451/451 [==============================] - 0s 142us/step - loss: 0.0590 - acc: 0.9956\n",
            "Epoch 108/200\n",
            "451/451 [==============================] - 0s 133us/step - loss: 0.0766 - acc: 0.9933\n",
            "Epoch 109/200\n",
            "451/451 [==============================] - 0s 137us/step - loss: 0.0494 - acc: 0.9956\n",
            "Epoch 110/200\n",
            "451/451 [==============================] - 0s 133us/step - loss: 0.0746 - acc: 0.9867\n",
            "Epoch 111/200\n",
            "451/451 [==============================] - 0s 135us/step - loss: 0.0562 - acc: 0.9956\n",
            "Epoch 112/200\n",
            "451/451 [==============================] - 0s 135us/step - loss: 0.0473 - acc: 0.9956\n",
            "Epoch 113/200\n",
            "451/451 [==============================] - 0s 133us/step - loss: 0.0567 - acc: 0.9978\n",
            "Epoch 114/200\n",
            "451/451 [==============================] - 0s 133us/step - loss: 0.0600 - acc: 1.0000\n",
            "Epoch 115/200\n",
            "451/451 [==============================] - 0s 128us/step - loss: 0.0455 - acc: 0.9978\n",
            "Epoch 116/200\n",
            "451/451 [==============================] - 0s 137us/step - loss: 0.0543 - acc: 0.9956\n",
            "Epoch 117/200\n",
            "451/451 [==============================] - 0s 139us/step - loss: 0.0551 - acc: 0.9911\n",
            "Epoch 118/200\n",
            "451/451 [==============================] - 0s 135us/step - loss: 0.0443 - acc: 0.9956\n",
            "Epoch 119/200\n",
            "451/451 [==============================] - 0s 128us/step - loss: 0.0455 - acc: 0.9956\n",
            "Epoch 120/200\n",
            "451/451 [==============================] - 0s 137us/step - loss: 0.0481 - acc: 0.9933\n",
            "Epoch 121/200\n",
            "451/451 [==============================] - 0s 137us/step - loss: 0.0552 - acc: 0.9956\n",
            "Epoch 122/200\n",
            "451/451 [==============================] - 0s 130us/step - loss: 0.0422 - acc: 0.9978\n",
            "Epoch 123/200\n",
            "451/451 [==============================] - 0s 139us/step - loss: 0.0663 - acc: 0.9845\n",
            "Epoch 124/200\n",
            "451/451 [==============================] - 0s 137us/step - loss: 0.0520 - acc: 0.9933\n",
            "Epoch 125/200\n",
            "451/451 [==============================] - 0s 135us/step - loss: 0.0424 - acc: 0.9978\n",
            "Epoch 126/200\n",
            "451/451 [==============================] - 0s 135us/step - loss: 0.0390 - acc: 0.9978\n",
            "Epoch 127/200\n",
            "451/451 [==============================] - 0s 133us/step - loss: 0.0503 - acc: 0.9956\n",
            "Epoch 128/200\n",
            "451/451 [==============================] - 0s 135us/step - loss: 0.0516 - acc: 0.9889\n",
            "Epoch 129/200\n",
            "451/451 [==============================] - 0s 137us/step - loss: 0.0796 - acc: 0.9845\n",
            "Epoch 130/200\n",
            "451/451 [==============================] - 0s 144us/step - loss: 0.0441 - acc: 0.9911\n",
            "Epoch 131/200\n",
            "451/451 [==============================] - 0s 142us/step - loss: 0.0393 - acc: 1.0000\n",
            "Epoch 132/200\n",
            "451/451 [==============================] - 0s 128us/step - loss: 0.0490 - acc: 0.9956\n",
            "Epoch 133/200\n",
            "451/451 [==============================] - 0s 137us/step - loss: 0.0350 - acc: 0.9956\n",
            "Epoch 134/200\n",
            "451/451 [==============================] - 0s 137us/step - loss: 0.0451 - acc: 0.9978\n",
            "Epoch 135/200\n",
            "451/451 [==============================] - 0s 139us/step - loss: 0.0355 - acc: 0.9978\n",
            "Epoch 136/200\n",
            "451/451 [==============================] - 0s 135us/step - loss: 0.0507 - acc: 0.9911\n",
            "Epoch 137/200\n",
            "451/451 [==============================] - 0s 135us/step - loss: 0.0426 - acc: 0.9911\n",
            "Epoch 138/200\n",
            "451/451 [==============================] - 0s 137us/step - loss: 0.0477 - acc: 0.9978\n",
            "Epoch 139/200\n",
            "451/451 [==============================] - 0s 146us/step - loss: 0.0617 - acc: 0.9889\n",
            "Epoch 140/200\n",
            "451/451 [==============================] - 0s 135us/step - loss: 0.0503 - acc: 0.9867\n",
            "Epoch 141/200\n",
            "451/451 [==============================] - 0s 142us/step - loss: 0.0361 - acc: 1.0000\n",
            "Epoch 142/200\n",
            "451/451 [==============================] - 0s 137us/step - loss: 0.0360 - acc: 0.9956\n",
            "Epoch 143/200\n",
            "451/451 [==============================] - 0s 139us/step - loss: 0.0370 - acc: 0.9933\n",
            "Epoch 144/200\n",
            "451/451 [==============================] - 0s 135us/step - loss: 0.0300 - acc: 1.0000\n",
            "Epoch 145/200\n",
            "451/451 [==============================] - 0s 137us/step - loss: 0.0353 - acc: 0.9956\n",
            "Epoch 146/200\n",
            "451/451 [==============================] - 0s 135us/step - loss: 0.0659 - acc: 0.9867\n",
            "Epoch 147/200\n",
            "451/451 [==============================] - 0s 133us/step - loss: 0.0479 - acc: 0.9889\n",
            "Epoch 148/200\n",
            "451/451 [==============================] - 0s 139us/step - loss: 0.0325 - acc: 0.9956\n",
            "Epoch 149/200\n",
            "451/451 [==============================] - 0s 142us/step - loss: 0.0284 - acc: 0.9978\n",
            "Epoch 150/200\n",
            "451/451 [==============================] - 0s 137us/step - loss: 0.0248 - acc: 0.9956\n",
            "Epoch 151/200\n",
            "451/451 [==============================] - 0s 137us/step - loss: 0.0299 - acc: 0.9956\n",
            "Epoch 152/200\n",
            "451/451 [==============================] - 0s 133us/step - loss: 0.0258 - acc: 0.9956\n",
            "Epoch 153/200\n",
            "451/451 [==============================] - 0s 139us/step - loss: 0.0440 - acc: 0.9889\n",
            "Epoch 154/200\n",
            "451/451 [==============================] - 0s 137us/step - loss: 0.0312 - acc: 0.9978\n",
            "Epoch 155/200\n",
            "451/451 [==============================] - 0s 137us/step - loss: 0.0357 - acc: 0.9978\n",
            "Epoch 156/200\n"
          ],
          "name": "stdout"
        },
        {
          "output_type": "stream",
          "text": [
            "451/451 [==============================] - 0s 139us/step - loss: 0.0440 - acc: 0.9978\n",
            "Epoch 157/200\n",
            "451/451 [==============================] - 0s 133us/step - loss: 0.0261 - acc: 1.0000\n",
            "Epoch 158/200\n",
            "451/451 [==============================] - 0s 135us/step - loss: 0.0255 - acc: 0.9956\n",
            "Epoch 159/200\n",
            "451/451 [==============================] - 0s 135us/step - loss: 0.0247 - acc: 0.9978\n",
            "Epoch 160/200\n",
            "451/451 [==============================] - 0s 135us/step - loss: 0.0416 - acc: 0.9911\n",
            "Epoch 161/200\n",
            "451/451 [==============================] - 0s 130us/step - loss: 0.0455 - acc: 0.9889\n",
            "Epoch 162/200\n",
            "451/451 [==============================] - 0s 135us/step - loss: 0.0113 - acc: 1.0000\n",
            "Epoch 163/200\n",
            "451/451 [==============================] - 0s 135us/step - loss: 0.0234 - acc: 0.9956\n",
            "Epoch 164/200\n",
            "451/451 [==============================] - 0s 137us/step - loss: 0.0389 - acc: 0.9889\n",
            "Epoch 165/200\n",
            "451/451 [==============================] - 0s 150us/step - loss: 0.0334 - acc: 0.9956\n",
            "Epoch 166/200\n",
            "451/451 [==============================] - 0s 135us/step - loss: 0.0319 - acc: 0.9956\n",
            "Epoch 167/200\n",
            "451/451 [==============================] - 0s 128us/step - loss: 0.0285 - acc: 0.9956\n",
            "Epoch 168/200\n",
            "451/451 [==============================] - 0s 135us/step - loss: 0.0179 - acc: 0.9978\n",
            "Epoch 169/200\n",
            "451/451 [==============================] - 0s 135us/step - loss: 0.0370 - acc: 0.9911\n",
            "Epoch 170/200\n",
            "451/451 [==============================] - 0s 133us/step - loss: 0.0222 - acc: 0.9978\n",
            "Epoch 171/200\n",
            "451/451 [==============================] - 0s 139us/step - loss: 0.0433 - acc: 0.9956\n",
            "Epoch 172/200\n",
            "451/451 [==============================] - 0s 144us/step - loss: 0.0222 - acc: 1.0000\n",
            "Epoch 173/200\n",
            "451/451 [==============================] - 0s 135us/step - loss: 0.0230 - acc: 0.9933\n",
            "Epoch 174/200\n",
            "451/451 [==============================] - 0s 144us/step - loss: 0.0242 - acc: 0.9978\n",
            "Epoch 175/200\n",
            "451/451 [==============================] - 0s 135us/step - loss: 0.0142 - acc: 1.0000\n",
            "Epoch 176/200\n",
            "451/451 [==============================] - 0s 139us/step - loss: 0.0390 - acc: 0.9889\n",
            "Epoch 177/200\n",
            "451/451 [==============================] - 0s 137us/step - loss: 0.0298 - acc: 0.9956\n",
            "Epoch 178/200\n",
            "451/451 [==============================] - 0s 135us/step - loss: 0.0201 - acc: 1.0000\n",
            "Epoch 179/200\n",
            "451/451 [==============================] - 0s 142us/step - loss: 0.0153 - acc: 1.0000\n",
            "Epoch 180/200\n",
            "451/451 [==============================] - 0s 139us/step - loss: 0.0257 - acc: 0.9956\n",
            "Epoch 181/200\n",
            "451/451 [==============================] - 0s 133us/step - loss: 0.0147 - acc: 0.9978\n",
            "Epoch 182/200\n",
            "451/451 [==============================] - 0s 133us/step - loss: 0.0246 - acc: 0.9956\n",
            "Epoch 183/200\n",
            "451/451 [==============================] - 0s 135us/step - loss: 0.0224 - acc: 0.9933\n",
            "Epoch 184/200\n",
            "451/451 [==============================] - 0s 135us/step - loss: 0.0244 - acc: 0.9956\n",
            "Epoch 185/200\n",
            "451/451 [==============================] - 0s 133us/step - loss: 0.0184 - acc: 1.0000\n",
            "Epoch 186/200\n",
            "451/451 [==============================] - 0s 135us/step - loss: 0.0214 - acc: 0.9978\n",
            "Epoch 187/200\n",
            "451/451 [==============================] - 0s 135us/step - loss: 0.0293 - acc: 0.9933\n",
            "Epoch 188/200\n",
            "451/451 [==============================] - 0s 137us/step - loss: 0.0139 - acc: 0.9978\n",
            "Epoch 189/200\n",
            "451/451 [==============================] - 0s 133us/step - loss: 0.0230 - acc: 0.9978\n",
            "Epoch 190/200\n",
            "451/451 [==============================] - 0s 137us/step - loss: 0.0183 - acc: 0.9978\n",
            "Epoch 191/200\n",
            "451/451 [==============================] - 0s 135us/step - loss: 0.0239 - acc: 0.9956\n",
            "Epoch 192/200\n",
            "451/451 [==============================] - 0s 135us/step - loss: 0.0277 - acc: 0.9956\n",
            "Epoch 193/200\n",
            "451/451 [==============================] - 0s 137us/step - loss: 0.0142 - acc: 0.9956\n",
            "Epoch 194/200\n",
            "451/451 [==============================] - 0s 135us/step - loss: 0.0300 - acc: 0.9933\n",
            "Epoch 195/200\n",
            "451/451 [==============================] - 0s 137us/step - loss: 0.0199 - acc: 1.0000\n",
            "Epoch 196/200\n",
            "451/451 [==============================] - 0s 135us/step - loss: 0.0248 - acc: 0.9956\n",
            "Epoch 197/200\n",
            "451/451 [==============================] - 0s 135us/step - loss: 0.0202 - acc: 0.9978\n",
            "Epoch 198/200\n",
            "451/451 [==============================] - 0s 137us/step - loss: 0.0137 - acc: 1.0000\n",
            "Epoch 199/200\n",
            "451/451 [==============================] - 0s 139us/step - loss: 0.0206 - acc: 0.9978\n",
            "Epoch 200/200\n",
            "451/451 [==============================] - 0s 137us/step - loss: 0.0171 - acc: 1.0000\n"
          ],
          "name": "stdout"
        }
      ]
    },
    {
      "cell_type": "code",
      "metadata": {
        "id": "BGaVQZ-Ie6wk",
        "outputId": "58fe697f-e40a-4b5e-f5b8-3a81080287da"
      },
      "source": [
        "from rasa_core.agent import Agent\n",
        "agent = Agent.load('models/dialogue', interpreter=model_directory)"
      ],
      "execution_count": null,
      "outputs": [
        {
          "output_type": "stream",
          "text": [
            "C:\\Users\\Saahithi\\anaconda3\\envs\\env_py_36\\lib\\site-packages\\rasa_core\\utils.py:341: YAMLLoadWarning: calling yaml.load() without Loader=... is deprecated, as the default Loader is unsafe. Please read https://msg.pyyaml.org/load for full details.\n",
            "  return yaml.load(read_file(filename, \"utf-8\"))\n"
          ],
          "name": "stderr"
        }
      ]
    },
    {
      "cell_type": "code",
      "metadata": {
        "id": "pdXPeJjJe6wl",
        "outputId": "41127329-b96d-4c48-c9b6-a12ac90aa9fd"
      },
      "source": [
        "print(\"Your bot is ready to talk! Type your messages here or send 'stop'\")\n",
        "while True:\n",
        "    a = input()\n",
        "    if a == 'stop':\n",
        "        break\n",
        "    responses = agent.handle_message(a)\n",
        "    for response in responses:\n",
        "        print(response[\"text\"])"
      ],
      "execution_count": null,
      "outputs": [
        {
          "output_type": "stream",
          "text": [
            "Your bot is ready to talk! Type your messages here or send 'stop'\n",
            "hi\n",
            "Welcome to The Grocers! Please enter your name.\n",
            "I am saahithi\n",
            "Hello! How can I help you?\n"
          ],
          "name": "stdout"
        }
      ]
    },
    {
      "cell_type": "code",
      "metadata": {
        "id": "PPAMrEu6fAzm"
      },
      "source": [
        ""
      ],
      "execution_count": null,
      "outputs": []
    }
  ]
}